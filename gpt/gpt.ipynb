{
 "cells": [
  {
   "cell_type": "code",
   "id": "d032f735d86c3d53",
   "metadata": {
    "ExecuteTime": {
     "end_time": "2025-09-22T04:35:28.500170Z",
     "start_time": "2025-09-22T04:35:23.936528Z"
    }
   },
   "source": [
    "from typing import Literal\n",
    "\n",
    "import os\n",
    "import torch\n",
    "import torch.nn as nn\n",
    "import torch.nn.functional as F\n",
    "from einops import rearrange\n",
    "from transformers import AutoTokenizer\n",
    "\n",
    "from tqdm import tqdm\n"
   ],
   "outputs": [],
   "execution_count": 1
  },
  {
   "cell_type": "code",
   "id": "3372101a99f3462c",
   "metadata": {
    "ExecuteTime": {
     "end_time": "2025-09-22T04:35:28.507666Z",
     "start_time": "2025-09-22T04:35:28.505508Z"
    }
   },
   "source": "ctx = {}",
   "outputs": [],
   "execution_count": 2
  },
  {
   "cell_type": "code",
   "id": "98a13411e5802039",
   "metadata": {
    "ExecuteTime": {
     "end_time": "2025-09-22T04:35:29.583869Z",
     "start_time": "2025-09-22T04:35:28.514942Z"
    }
   },
   "source": [
    "tokenizer = AutoTokenizer.from_pretrained('bert-base-chinese')\n",
    "tokenizer.pad_token = tokenizer.eos_token\n",
    "\n",
    "def decode(tsn):\n",
    "    return tokenizer.decode(\n",
    "        tsn,\n",
    "        skip_special_tokens=True\n",
    "    )\n",
    "\n",
    "def encode(s, ctx_len=None):\n",
    "    return tokenizer(\n",
    "        s,\n",
    "        truncation=False,\n",
    "        max_length=ctx_len,\n",
    "        padding='do_not_pad' if ctx_len is None else 'max_length',\n",
    "        return_tensors='pt'\n",
    "    )['input_ids'].squeeze(dim=0)"
   ],
   "outputs": [],
   "execution_count": 3
  },
  {
   "cell_type": "code",
   "id": "ae0007a121fcaeb2",
   "metadata": {
    "ExecuteTime": {
     "end_time": "2025-09-22T04:35:29.647354Z",
     "start_time": "2025-09-22T04:35:29.640353Z"
    }
   },
   "source": [
    "class MultiHeadAttention(nn.Module):\n",
    "    def __init__(self, embed_dim, nhead, pdrop=0.2):\n",
    "        super().__init__()\n",
    "        self.qkv = nn.Linear(embed_dim, 3 * embed_dim)\n",
    "        self.attend = nn.Softmax(dim=-1)\n",
    "        self.drop = nn.Dropout(pdrop)\n",
    "        self.c_proj = nn.Linear(embed_dim, embed_dim)\n",
    "        self.nhead = nhead\n",
    "\n",
    "    def forward(self, x, attn_mask=None):\n",
    "        b, t, c = x.shape\n",
    "        qkv = self.qkv(x).chunk(3, dim=2)\n",
    "        q, k, v = map(lambda tsn: rearrange(tsn, 'b t (nh hd) -> b nh t hd', nh=self.nhead), qkv)\n",
    "\n",
    "        wei = q @ k.transpose(-2, -1) * k.size(dim=-1) ** -0.5\n",
    "        if attn_mask is not None:\n",
    "            wei = wei.masked_fill(attn_mask[:t, :t] == 0, -float('inf'))\n",
    "        attn = self.attend(wei)\n",
    "\n",
    "        y = self.c_proj(rearrange(attn @ v, 'b nh t hd -> b t (nh hd)', nh=self.nhead))\n",
    "\n",
    "        return self.drop(y)\n",
    "\n",
    "class FFN(nn.Module):\n",
    "    def __init__(self, embed_dim, pdrop=0.2):\n",
    "        super().__init__()\n",
    "        self.net = nn.Sequential(\n",
    "            nn.Linear(embed_dim, embed_dim * 4),\n",
    "            nn.GELU(),\n",
    "            nn.Linear(embed_dim * 4, embed_dim),\n",
    "            nn.Dropout(pdrop),\n",
    "        )\n",
    "\n",
    "    def forward(self, x):\n",
    "        return self.net(x)\n",
    "\n",
    "class Block(nn.Module):\n",
    "    def __init__(self, embed_dim, nhead, pdrop=0.2):\n",
    "        super().__init__()\n",
    "        self.ln_1 = nn.LayerNorm(embed_dim)\n",
    "        self.ln_2 = nn.LayerNorm(embed_dim)\n",
    "        self.attn = MultiHeadAttention(embed_dim, nhead, pdrop)\n",
    "        self.ffn = FFN(embed_dim, pdrop)\n",
    "\n",
    "    def forward(self, x, attn_mask=None):\n",
    "        x = x + self.attn(self.ln_1(x), attn_mask)\n",
    "        x = x + self.ffn(self.ln_2(x))\n",
    "        return x\n",
    "\n",
    "class GPT(nn.Module):\n",
    "    def __init__(self,\n",
    "                vocab_size,\n",
    "                embed_dim,\n",
    "                context_length,\n",
    "                nhead,\n",
    "                n_layer,\n",
    "                pdrop=0.2,\n",
    "                ):\n",
    "        super().__init__()\n",
    "        self.tok_emb = nn.Embedding(vocab_size, embed_dim)\n",
    "        self.pos_emb = nn.Embedding(context_length, embed_dim)\n",
    "        self.blocks = nn.ModuleList(\n",
    "            [Block(embed_dim, nhead, pdrop) for _ in range(n_layer)]\n",
    "        )\n",
    "        self.drop = nn.Dropout(pdrop)\n",
    "        self.ln_f = nn.LayerNorm(embed_dim)\n",
    "        self.lm_head = nn.Linear(embed_dim, vocab_size)\n",
    "\n",
    "        self.context_length = context_length\n",
    "\n",
    "    def forward(self, idx, attn_mask=None, target=None):\n",
    "        b, t = idx.shape\n",
    "\n",
    "        tok_emb = self.tok_emb(idx)\n",
    "        pos_emb = self.pos_emb(torch.arange(0, t).long().to(idx.device))\n",
    "\n",
    "        x = tok_emb + pos_emb\n",
    "        x = self.drop(x)\n",
    "\n",
    "        for block in self.blocks:\n",
    "            x = block(x, attn_mask)\n",
    "        x = self.ln_f(x)\n",
    "\n",
    "        logits = self.lm_head(x)\n",
    "\n",
    "        loss = None\n",
    "        if target is not None:\n",
    "            loss = F.cross_entropy(rearrange(logits, 'b t c -> (b t) c'), rearrange(target, 'b t -> (b t)'))\n",
    "\n",
    "        return logits, loss\n",
    "\n",
    "    def generate(self, idx, max_tok=100, attn_mask=None, temperature=1.0):\n",
    "        for _ in range(max_tok):\n",
    "            idx_cond = idx[:, -self.context_length:]\n",
    "            logits, _ = self(idx_cond, attn_mask=attn_mask)\n",
    "            probs = (logits[:, -1, :] / temperature).softmax(dim=-1)\n",
    "            idx_next = torch.multinomial(probs, num_samples=1)\n",
    "            idx = torch.cat((idx, idx_next), dim=-1)\n",
    "        return idx"
   ],
   "outputs": [],
   "execution_count": 4
  },
  {
   "cell_type": "code",
   "id": "da2edae51b120ac9",
   "metadata": {
    "ExecuteTime": {
     "end_time": "2025-09-22T04:35:29.654611Z",
     "start_time": "2025-09-22T04:35:29.651165Z"
    }
   },
   "source": "ctx['context_length'] = 128",
   "outputs": [],
   "execution_count": 5
  },
  {
   "metadata": {
    "ExecuteTime": {
     "end_time": "2025-09-22T04:35:29.673111Z",
     "start_time": "2025-09-22T04:35:29.659745Z"
    }
   },
   "cell_type": "code",
   "source": [
    "with open('input.txt', 'r', encoding='utf-8') as f:\n",
    "    data = encode(f.read().replace(' ', '').replace('\\n', '').replace('\\t', ''))\n",
    "\n",
    "train_ratio = 0.9\n",
    "train_len = int(train_ratio * len(data))\n",
    "\n",
    "train_data = data[:train_len]\n",
    "val_data = data[train_len:]\n",
    "\n",
    "\n",
    "def get_xy(split: Literal['train', 'val'], batch_size):\n",
    "    data = train_data if split == 'train' else val_data\n",
    "    ix = torch.randint(len(data) - ctx['context_length'], size=(batch_size, ))\n",
    "    x = torch.stack([data[i:i+ctx['context_length']] for i in ix])\n",
    "    y = torch.stack([data[i+1:i+ctx['context_length']+1] for i in ix])\n",
    "    return x, y"
   ],
   "id": "18501006a8c174e0",
   "outputs": [
    {
     "name": "stderr",
     "output_type": "stream",
     "text": [
      "Token indices sequence length is longer than the specified maximum sequence length for this model (3365 > 512). Running this sequence through the model will result in indexing errors\n"
     ]
    }
   ],
   "execution_count": 6
  },
  {
   "metadata": {
    "ExecuteTime": {
     "end_time": "2025-09-22T04:35:31.111047Z",
     "start_time": "2025-09-22T04:35:29.680838Z"
    }
   },
   "cell_type": "code",
   "source": [
    "model = GPT(\n",
    "    vocab_size=tokenizer.vocab_size,\n",
    "    embed_dim=768,\n",
    "    context_length=ctx['context_length'],\n",
    "    nhead=12,\n",
    "    n_layer=24,\n",
    "    pdrop=0.,\n",
    ")"
   ],
   "id": "bd83013d365bdc0b",
   "outputs": [],
   "execution_count": 7
  },
  {
   "metadata": {
    "ExecuteTime": {
     "end_time": "2025-09-22T07:08:08.045761Z",
     "start_time": "2025-09-22T04:35:31.131195Z"
    }
   },
   "cell_type": "code",
   "source": [
    "ctx['device'] = 'cuda' if torch.cuda.is_available() else 'cpu'\n",
    "ctx['epochs'] = 1024\n",
    "ctx['batch_size'] = 32\n",
    "ctx['eval_interval'] = 32\n",
    "ctx['checkpoint_interval'] = 32\n",
    "ctx['lr'] = 1e-4\n",
    "ctx['state_dict'] = 'gpt.pt'\n",
    "\n",
    "pbar = tqdm(range(1, ctx['epochs'] + 1))\n",
    "\n",
    "model = model.to(ctx['device'])\n",
    "\n",
    "if os.path.exists(ctx['state_dict']):\n",
    "    model.load_state_dict(torch.load(ctx['state_dict'], weights_only=True))\n",
    "\n",
    "attn_mask = torch.tril(torch.ones(ctx['context_length'], ctx['context_length'])).to(ctx['device'])\n",
    "\n",
    "optimizer = torch.optim.AdamW(model.parameters(), lr=ctx['lr'])\n",
    "scheduler = torch.optim.lr_scheduler.CosineAnnealingLR(optimizer, 10)\n",
    "\n",
    "for epoch in pbar:\n",
    "    model.train()\n",
    "    x, y = get_xy('train', ctx['batch_size'])\n",
    "    x = x.to(ctx['device'])\n",
    "    y = y.to(ctx['device'])\n",
    "    _, loss = model(x, attn_mask, y)\n",
    "    optimizer.zero_grad()\n",
    "    loss.backward()\n",
    "    optimizer.step()\n",
    "    scheduler.step()\n",
    "    pbar.set_description(f'loss: {loss.item():.4f}')\n",
    "    if epoch % ctx['checkpoint_interval'] == 0:\n",
    "        torch.save(model.state_dict(), ctx['state_dict'])\n",
    "    if epoch % ctx['eval_interval'] == 0:\n",
    "        model.eval()\n",
    "        generated = model.generate(\n",
    "            encode('').unsqueeze(0).to(ctx['device']), 200, attn_mask=attn_mask\n",
    "        )\n",
    "        pbar.set_postfix_str(f'generated: {decode(generated[0])}')"
   ],
   "id": "593a605c973a2f83",
   "outputs": [
    {
     "name": "stderr",
     "output_type": "stream",
     "text": [
      "loss: 0.0400: 100%|██████████| 1024/1024 [2:32:36<00:00,  8.94s/it, generated: ##share 蔗 低 ， 却 很 高 大 ； 青 筋 条 条 条 绽 出 ， 争 辩 道 ， 窃 书 不 能 算 偷 窃 书 ！ 读 书 人 的 事 ， 能 算 偷 么 ？ 接 连 便 是 难 懂 的 话 ， 什 么 君 子 固 穷 ⑶ ， 什 么 者 乎 之 类 ， 引 得 众 人 都 哄 笑 起 来 ： 店 内 外 充 满 了 快 活 的 空 气 。 听 人 家 背 地 里 谈 论 ， 孔 乙 己 原 来 也 读 过 书 ， 但 这 些 笔 好 字 ， 和 书 ，€舐82 唏 ⑵ 上 的 空 气 。 苣 又 不 到 几 天 ， 便 连 人 倦tl 说 话 ； 于 是 引 人 和 书 籍 纸 张 笔 砚 ， 一 齐 失 踪 。 如 是 几 次 ， 叫 他 钞 书 的 人 也 没 有 了 。 孔 乙 己 没 有 法 ， 便 免 不 了 偶 然 做 些 偷]                                四]        rd铀 又 醚]         埗]\n"
     ]
    }
   ],
   "execution_count": 8
  },
  {
   "metadata": {
    "ExecuteTime": {
     "end_time": "2025-09-22T10:39:41.905067Z",
     "start_time": "2025-09-22T10:39:20.400982Z"
    }
   },
   "cell_type": "code",
   "source": [
    "generated = model.generate(\n",
    "            encode('孔乙己会').unsqueeze(0).to(ctx['device']), 500, attn_mask=attn_mask\n",
    "        )\n",
    "decode(generated[0]).replace(' ', '')"
   ],
   "id": "f6d840e2329f72f7",
   "outputs": [
    {
     "data": {
      "text/plain": [
       "'孔乙己会王科举人便觉得他堕落：以说道，你还清白一姍。这一回是现钱，酒要们又偷了东西了！掌柜也不十分分辩，单说了一句不要取笑！哦！取笑？要是不偷，怎么会打断腿？孔乙己低声说道，跌断，跌articles？他的眼色，很像恳求掌柜，不要再提。此时已经聚集了几个人，便和掌柜都笑了。我温了酒，端出去，放在门槛上。他从破衣袋里摸出四文大钱，放在我手里，见他满手是泥，原来他便用这手走来的。不一会，他喝完酒，便又在旁人的说笑声中，坐着用这手慢慢走去了。自此以后，又长久没有看见孔乙己。到了年关，掌柜取下粉板说，孔乙己还欠十九个钱呢！到第二年的端午，又说孔乙己还欠十九个钱呢！到中秋可是没有说，再到年关也没有看见他。我到现在终于没有见大茬显出颓唐的确死了。一九一九年三月。注释⑴本篇最初发表于一九一九年四月《新青年》第六卷第四号。发表时篇末有作者的附记如下：这一篇很拙的小说，还可缠夹袄了。那时篇很拙的意思，单在描写社会上的或一种生活，请读者看看，并没有别的深意。但用活字排印了发表，却已在这时候，便是忽然有人用了小说盛行人身攻击的时候。大抵著者走入暗路，每每每能引读者的思想跟他堕落：以为小'"
      ]
     },
     "execution_count": 11,
     "metadata": {},
     "output_type": "execute_result"
    }
   ],
   "execution_count": 11
  }
 ],
 "metadata": {
  "kernelspec": {
   "display_name": "Python 3 (ipykernel)",
   "language": "python",
   "name": "python3"
  },
  "language_info": {
   "codemirror_mode": {
    "name": "ipython",
    "version": 3
   },
   "file_extension": ".py",
   "mimetype": "text/x-python",
   "name": "python",
   "nbconvert_exporter": "python",
   "pygments_lexer": "ipython3",
   "version": "3.12.3"
  }
 },
 "nbformat": 4,
 "nbformat_minor": 5
}
