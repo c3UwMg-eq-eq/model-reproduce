{
 "cells": [
  {
   "cell_type": "code",
   "id": "d032f735d86c3d53",
   "metadata": {
    "ExecuteTime": {
     "end_time": "2025-09-19T13:57:26.558633Z",
     "start_time": "2025-09-19T13:57:26.547138Z"
    }
   },
   "source": [
    "from typing import Literal\n",
    "\n",
    "import os\n",
    "import torch\n",
    "import torch.nn as nn\n",
    "import torch.nn.functional as F\n",
    "from einops import rearrange\n",
    "from transformers import AutoTokenizer\n",
    "\n",
    "from tqdm import tqdm\n"
   ],
   "outputs": [],
   "execution_count": 49
  },
  {
   "cell_type": "code",
   "id": "3372101a99f3462c",
   "metadata": {
    "ExecuteTime": {
     "end_time": "2025-09-19T13:57:26.566270Z",
     "start_time": "2025-09-19T13:57:26.561266Z"
    }
   },
   "source": "ctx = {}",
   "outputs": [],
   "execution_count": 50
  },
  {
   "cell_type": "code",
   "id": "98a13411e5802039",
   "metadata": {
    "ExecuteTime": {
     "end_time": "2025-09-19T13:57:27.193444Z",
     "start_time": "2025-09-19T13:57:26.566270Z"
    }
   },
   "source": [
    "tokenizer = AutoTokenizer.from_pretrained('bert-base-chinese')\n",
    "tokenizer.pad_token = tokenizer.eos_token\n",
    "\n",
    "def decode(tsn):\n",
    "    return tokenizer.decode(\n",
    "        tsn,\n",
    "        skip_special_tokens=True\n",
    "    )\n",
    "\n",
    "def encode(s, ctx_len=None):\n",
    "    return tokenizer(\n",
    "        s,\n",
    "        truncation=False,\n",
    "        max_length=ctx_len,\n",
    "        padding='do_not_pad' if ctx_len is None else 'max_length',\n",
    "        return_tensors='pt'\n",
    "    )['input_ids'].squeeze(dim=0)"
   ],
   "outputs": [],
   "execution_count": 51
  },
  {
   "cell_type": "code",
   "id": "ae0007a121fcaeb2",
   "metadata": {
    "ExecuteTime": {
     "end_time": "2025-09-19T13:57:27.207063Z",
     "start_time": "2025-09-19T13:57:27.193444Z"
    }
   },
   "source": [
    "class MultiHeadAttention(nn.Module):\n",
    "    def __init__(self, embed_dim, nhead, pdrop=0.2):\n",
    "        super().__init__()\n",
    "        self.qkv = nn.Linear(embed_dim, 3 * embed_dim)\n",
    "        self.attend = nn.Softmax(dim=-1)\n",
    "        self.drop = nn.Dropout(pdrop)\n",
    "        self.c_proj = nn.Linear(embed_dim, embed_dim)\n",
    "        self.nhead = nhead\n",
    "\n",
    "    def forward(self, x, attn_mask=None):\n",
    "        b, t, c = x.shape\n",
    "        qkv = self.qkv(x).chunk(3, dim=2)\n",
    "        q, k, v = map(lambda tsn: rearrange(tsn, 'b t (nh hd) -> b nh t hd', nh=self.nhead), qkv)\n",
    "\n",
    "        wei = q @ k.transpose(-2, -1) * k.size(dim=-1) ** -0.5\n",
    "        if attn_mask is not None:\n",
    "            wei = wei.masked_fill(attn_mask[:t, :t] == 0, -float('inf'))\n",
    "        attn = self.attend(wei)\n",
    "\n",
    "        y = self.c_proj(rearrange(attn @ v, 'b nh t hd -> b t (nh hd)', nh=self.nhead))\n",
    "\n",
    "        return self.drop(y)\n",
    "\n",
    "class FFN(nn.Module):\n",
    "    def __init__(self, embed_dim, pdrop=0.2):\n",
    "        super().__init__()\n",
    "        self.net = nn.Sequential(\n",
    "            nn.Linear(embed_dim, embed_dim * 4),\n",
    "            nn.GELU(),\n",
    "            nn.Linear(embed_dim * 4, embed_dim),\n",
    "            nn.Dropout(pdrop),\n",
    "        )\n",
    "\n",
    "    def forward(self, x):\n",
    "        return self.net(x)\n",
    "\n",
    "class Block(nn.Module):\n",
    "    def __init__(self, embed_dim, nhead, pdrop=0.2):\n",
    "        super().__init__()\n",
    "        self.ln_1 = nn.LayerNorm(embed_dim)\n",
    "        self.ln_2 = nn.LayerNorm(embed_dim)\n",
    "        self.attn = MultiHeadAttention(embed_dim, nhead, pdrop)\n",
    "        self.ffn = FFN(embed_dim, pdrop)\n",
    "\n",
    "    def forward(self, x, attn_mask=None):\n",
    "        x = x + self.attn(self.ln_1(x), attn_mask)\n",
    "        x = x + self.ffn(self.ln_2(x))\n",
    "        return x\n",
    "\n",
    "class GPT(nn.Module):\n",
    "    def __init__(self,\n",
    "                vocab_size,\n",
    "                embed_dim,\n",
    "                context_length,\n",
    "                nhead,\n",
    "                n_layer,\n",
    "                pdrop=0.2,\n",
    "                ):\n",
    "        super().__init__()\n",
    "        self.tok_emb = nn.Embedding(vocab_size, embed_dim)\n",
    "        self.pos_emb = nn.Embedding(context_length, embed_dim)\n",
    "        self.blocks = nn.ModuleList(\n",
    "            [Block(embed_dim, nhead, pdrop) for _ in range(n_layer)]\n",
    "        )\n",
    "        self.drop = nn.Dropout(pdrop)\n",
    "        self.ln_f = nn.LayerNorm(embed_dim)\n",
    "        self.lm_head = nn.Linear(embed_dim, vocab_size)\n",
    "\n",
    "        self.context_length = context_length\n",
    "\n",
    "    def forward(self, idx, attn_mask=None, target=None):\n",
    "        b, t = idx.shape\n",
    "\n",
    "        tok_emb = self.tok_emb(idx)\n",
    "        pos_emb = self.pos_emb(torch.arange(0, t).long().to(idx.device))\n",
    "\n",
    "        x = tok_emb + pos_emb\n",
    "        x = self.drop(x)\n",
    "\n",
    "        for block in self.blocks:\n",
    "            x = block(x, attn_mask)\n",
    "        x = self.ln_f(x)\n",
    "\n",
    "        logits = self.lm_head(x)\n",
    "\n",
    "        loss = None\n",
    "        if target is not None:\n",
    "            loss = F.cross_entropy(rearrange(logits, 'b t c -> (b t) c'), rearrange(target, 'b t -> (b t)'))\n",
    "\n",
    "        return logits, loss\n",
    "\n",
    "    def generate(self, idx, max_tok=100, attn_mask=None, temperature=1.0):\n",
    "        for _ in range(max_tok):\n",
    "            idx_cond = idx[:, -self.context_length:]\n",
    "            logits, _ = self(idx_cond, attn_mask=attn_mask)\n",
    "            probs = (logits[:, -1, :] / temperature).softmax(dim=-1)\n",
    "            idx_next = torch.multinomial(probs, num_samples=1)\n",
    "            idx = torch.cat((idx, idx_next), dim=-1)\n",
    "        return idx"
   ],
   "outputs": [],
   "execution_count": 52
  },
  {
   "cell_type": "code",
   "id": "da2edae51b120ac9",
   "metadata": {
    "ExecuteTime": {
     "end_time": "2025-09-19T13:57:27.214805Z",
     "start_time": "2025-09-19T13:57:27.210098Z"
    }
   },
   "source": "ctx['context_length'] = 128",
   "outputs": [],
   "execution_count": 53
  },
  {
   "metadata": {},
   "cell_type": "code",
   "outputs": [],
   "execution_count": null,
   "source": [
    "with open('input.txt', 'r', encoding='utf-8') as f:\n",
    "    data = encode(f.read().replace(' ', '').replace('\\n', '').replace('\\t', ''))\n",
    "\n",
    "train_ratio = 0.9\n",
    "train_len = int(train_ratio * len(data))\n",
    "\n",
    "train_data = data[:train_len]\n",
    "val_data = data[train_len:]\n",
    "\n",
    "\n",
    "def get_xy(split: Literal['train', 'val'], batch_size):\n",
    "    data = train_data if split == 'train' else val_data\n",
    "    ix = torch.randint(len(data) - ctx['context_length'], size=(batch_size, ))\n",
    "    x = torch.stack([data[i:i+ctx['context_length']] for i in ix])\n",
    "    y = torch.stack([data[i+1:i+ctx['context_length']+1] for i in ix])\n",
    "    return x, y"
   ],
   "id": "18501006a8c174e0"
  },
  {
   "metadata": {},
   "cell_type": "code",
   "outputs": [],
   "execution_count": null,
   "source": [
    "model = GPT(\n",
    "    vocab_size=tokenizer.vocab_size,\n",
    "    embed_dim=768,\n",
    "    context_length=ctx['context_length'],\n",
    "    nhead=12,\n",
    "    n_layer=24,\n",
    "    pdrop=0.,\n",
    ")"
   ],
   "id": "bd83013d365bdc0b"
  },
  {
   "metadata": {},
   "cell_type": "code",
   "outputs": [],
   "execution_count": null,
   "source": [
    "ctx['device'] = 'cuda' if torch.cuda.is_available() else 'cpu'\n",
    "ctx['epochs'] = 100\n",
    "ctx['batch_size'] = 64\n",
    "ctx['eval_interval'] = 50\n",
    "ctx['checkpoint_interval'] = 50\n",
    "ctx['lr'] = 1e-4\n",
    "ctx['state_dict'] = 'gpt.pt'\n",
    "\n",
    "pbar = tqdm(range(1, ctx['epochs'] + 1))\n",
    "\n",
    "model = model.to(ctx['device'])\n",
    "\n",
    "if os.path.exists(ctx['state_dict']):\n",
    "    model.load_state_dict(torch.load(ctx['state_dict'], weights_only=True))\n",
    "\n",
    "attn_mask = torch.tril(torch.ones(ctx['context_length'], ctx['context_length'])).to(ctx['device'])\n",
    "\n",
    "optimizer = torch.optim.AdamW(model.parameters(), lr=ctx['lr'])\n",
    "scheduler = torch.optim.lr_scheduler.CosineAnnealingLR(optimizer, 10)\n",
    "\n",
    "for epoch in pbar:\n",
    "    model.train()\n",
    "    x, y = get_xy('train', ctx['batch_size'])\n",
    "    x = x.to(ctx['device'])\n",
    "    y = y.to(ctx['device'])\n",
    "    _, loss = model(x, attn_mask, y)\n",
    "    optimizer.zero_grad()\n",
    "    loss.backward()\n",
    "    optimizer.step()\n",
    "    scheduler.step()\n",
    "    pbar.set_description(f'loss: {loss.item():.4f}')\n",
    "    if epoch % ctx['checkpoint_interval'] == 0:\n",
    "        torch.save(model.state_dict(), ctx['state_dict'])\n",
    "    if epoch % ctx['eval_interval'] == 0:\n",
    "        model.eval()\n",
    "        generated = model.generate(\n",
    "            encode('').unsqueeze(0).to(ctx['device']), 200, attn_mask=attn_mask\n",
    "        )\n",
    "        pbar.set_postfix_str(f'generated: {decode(generated[0])}')"
   ],
   "id": "593a605c973a2f83"
  },
  {
   "metadata": {},
   "cell_type": "code",
   "outputs": [],
   "execution_count": null,
   "source": [
    "generated = model.generate(\n",
    "            encode('羊脂球').unsqueeze(0).to(ctx['device']), 500, attn_mask=attn_mask\n",
    "        )\n",
    "decode(generated[0]).replace(' ', '')"
   ],
   "id": "f6d840e2329f72f7"
  }
 ],
 "metadata": {
  "kernelspec": {
   "display_name": "Python 3 (ipykernel)",
   "language": "python",
   "name": "python3"
  },
  "language_info": {
   "codemirror_mode": {
    "name": "ipython",
    "version": 3
   },
   "file_extension": ".py",
   "mimetype": "text/x-python",
   "name": "python",
   "nbconvert_exporter": "python",
   "pygments_lexer": "ipython3",
   "version": "3.12.3"
  }
 },
 "nbformat": 4,
 "nbformat_minor": 5
}
