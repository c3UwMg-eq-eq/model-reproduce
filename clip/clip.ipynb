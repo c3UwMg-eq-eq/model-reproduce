{
 "cells": [
  {
   "cell_type": "code",
   "id": "initial_id",
   "metadata": {
    "collapsed": true,
    "ExecuteTime": {
     "end_time": "2025-09-20T18:51:18.019804Z",
     "start_time": "2025-09-20T18:51:18.004422Z"
    }
   },
   "source": [
    "from functools import lru_cache\n",
    "from typing import Union\n",
    "\n",
    "import os\n",
    "import numpy as np\n",
    "from tqdm import tqdm\n",
    "\n",
    "import torch\n",
    "import torch.nn as nn\n",
    "import torch.nn.functional as F\n",
    "from pandas import Series\n",
    "\n",
    "from torch.utils.data import DataLoader, Dataset\n",
    "from torchvision import transforms, datasets\n",
    "\n",
    "from einops import rearrange, repeat\n",
    "from transformers import AutoTokenizer"
   ],
   "outputs": [],
   "execution_count": 254
  },
  {
   "metadata": {
    "ExecuteTime": {
     "end_time": "2025-09-20T18:51:18.036242Z",
     "start_time": "2025-09-20T18:51:18.027001Z"
    }
   },
   "cell_type": "code",
   "source": [
    "class MultiHeadAttention(nn.Module):\n",
    "    def __init__(self, embed_dim, nhead, pdrop):\n",
    "        super(MultiHeadAttention, self).__init__()\n",
    "\n",
    "        self.nhead = nhead\n",
    "\n",
    "        self.qkv = nn.Linear(embed_dim, embed_dim * 3)\n",
    "        self.c_proj = nn.Linear(embed_dim, embed_dim)\n",
    "        self.drop = nn.Dropout(pdrop)\n",
    "\n",
    "    def forward(self, x, attn_mask=None):\n",
    "        _, t, _ = x.shape\n",
    "\n",
    "        qkv = self.qkv(x).chunk(3, dim=-1)\n",
    "\n",
    "        q, k, v = map(\n",
    "            lambda tsn: rearrange(tsn, 'b t (nh hd) -> b nh t hd', nh=self.nhead), qkv\n",
    "        )\n",
    "\n",
    "        wei = q @ k.transpose(-1, -2) * k.size(dim=-1) ** -0.5\n",
    "        if attn_mask is not None:\n",
    "            attn_mask = attn_mask.to(x.device)\n",
    "            wei = wei.masked_fill(attn_mask[:t, :t] == 0, float('-inf'))\n",
    "        wei = F.softmax(wei, dim=-1)\n",
    "\n",
    "        attn = wei @ v\n",
    "        attn = rearrange(attn, 'b nh t hd -> b t (nh hd)')\n",
    "\n",
    "        return self.drop(self.c_proj(attn))"
   ],
   "id": "1d444c32dbb966",
   "outputs": [],
   "execution_count": 255
  },
  {
   "metadata": {
    "ExecuteTime": {
     "end_time": "2025-09-20T18:51:18.045296Z",
     "start_time": "2025-09-20T18:51:18.036242Z"
    }
   },
   "cell_type": "code",
   "source": [
    "class FFN(nn.Module):\n",
    "    def __init__(self, embed_dim, pdrop):\n",
    "        super(FFN, self).__init__()\n",
    "        self.net = nn.Sequential(\n",
    "            nn.Linear(embed_dim, embed_dim * 4),\n",
    "            nn.GELU(),\n",
    "            nn.Linear(embed_dim * 4, embed_dim),\n",
    "            nn.Dropout(pdrop),\n",
    "        )\n",
    "\n",
    "    def forward(self, x):\n",
    "        return self.net(x)\n",
    "\n",
    "class Block(nn.Module):\n",
    "    def __init__(self,\n",
    "                 # Common\n",
    "                 embed_dim,\n",
    "                 # MHA\n",
    "                 nhead,\n",
    "                 attn_pdrop,\n",
    "                 # FFN\n",
    "                 ffn_pdrop\n",
    "                 ):\n",
    "        super(Block, self).__init__()\n",
    "        self.ln1 = nn.LayerNorm(embed_dim)\n",
    "        self.ln2 = nn.LayerNorm(embed_dim)\n",
    "        self.attn = MultiHeadAttention(embed_dim, nhead, attn_pdrop)\n",
    "        self.ffn = FFN(embed_dim, ffn_pdrop)\n",
    "\n",
    "    def forward(self, x, attn_mask=None):\n",
    "        x = x + self.attn(self.ln1(x), attn_mask=attn_mask)\n",
    "        x = x + self.ffn(self.ln2(x))\n",
    "        return x"
   ],
   "id": "dbe74fa6da45203f",
   "outputs": [],
   "execution_count": 256
  },
  {
   "metadata": {
    "ExecuteTime": {
     "end_time": "2025-09-20T18:51:18.056345Z",
     "start_time": "2025-09-20T18:51:18.048505Z"
    }
   },
   "cell_type": "code",
   "source": [
    "class TransformerLanguageModel(nn.Module):\n",
    "    def __init__(self,\n",
    "                 # LM\n",
    "                 vocab_size,\n",
    "                 ctx_len,\n",
    "                 # Common\n",
    "                 embed_dim,\n",
    "                 # Block\n",
    "                 nlayer,\n",
    "                 nhead,\n",
    "                 attn_mask=None,\n",
    "                 attn_pdrop=0.2,\n",
    "                 ffn_pdrop=0.2,\n",
    "                 # Output\n",
    "                 output_dim: int=None\n",
    "                 ):\n",
    "        super(TransformerLanguageModel, self).__init__()\n",
    "        # Properties\n",
    "        self.ctx_len = ctx_len\n",
    "        if attn_mask is None:\n",
    "            attn_mask = torch.tril(torch.ones(ctx_len, ctx_len))\n",
    "        self.attn_mask = attn_mask\n",
    "        self.understanding = output_dim is not None\n",
    "\n",
    "        # Comps\n",
    "        self.tok_emb = nn.Embedding(vocab_size, embed_dim)\n",
    "        self.pos_emb = nn.Embedding(ctx_len, embed_dim)\n",
    "\n",
    "        self.ln_pre = nn.LayerNorm(embed_dim)\n",
    "        self.blocks = nn.ModuleList(\n",
    "            [Block(embed_dim, nhead, attn_pdrop, ffn_pdrop) for _ in range(nlayer)]\n",
    "        )\n",
    "        self.ln_post = nn.LayerNorm(embed_dim)\n",
    "\n",
    "        self.lm_head = nn.Linear(embed_dim, vocab_size if output_dim is None else output_dim)\n",
    "\n",
    "    def generate(self, idx, attn_mask=None, max_new_tokens=100, temp=1.0, topk=None):\n",
    "        if self.understanding:\n",
    "            raise NotImplementedError('Not for generating')\n",
    "        for _ in range(max_new_tokens):\n",
    "            idx_cond = idx[:, -self.ctx_len:]\n",
    "            logits = self(idx_cond, attn_mask)\n",
    "            logits_of_last_tick = logits[:, -1, :] / temp\n",
    "            if topk is not None:\n",
    "                vals, _ = torch.topk(logits_of_last_tick, topk)\n",
    "                logits_of_last_tick[logits_of_last_tick < vals[-1]] = float('-inf')\n",
    "            if temp == 0:\n",
    "                idx_next = torch.argmax(logits_of_last_tick, dim=-1, keepdim=True)\n",
    "            else:\n",
    "                probs = logits_of_last_tick.softmax(dim=-1)\n",
    "                idx_next = torch.multinomial(probs, num_samples=1)\n",
    "            idx = torch.cat([idx, idx_next], dim=1) # concat on 'time' dimension\n",
    "        return idx\n",
    "\n",
    "    def forward(self, idx, attn_mask=None):\n",
    "        attn_mask = attn_mask if attn_mask is not None else self.attn_mask\n",
    "\n",
    "        _, t = idx.shape\n",
    "\n",
    "        tok_emb = self.tok_emb(idx)\n",
    "        pos_emb = self.pos_emb(\n",
    "            torch.arange(0, t, dtype=torch.long, device=idx.device)\n",
    "        )\n",
    "\n",
    "        x = tok_emb + pos_emb\n",
    "\n",
    "        x = self.ln_pre(x)\n",
    "        for block in self.blocks:\n",
    "            x = block(x, attn_mask=attn_mask)\n",
    "        x = self.ln_post(x)\n",
    "\n",
    "        logits = self.lm_head(x)\n",
    "\n",
    "        if self.understanding:\n",
    "            logits = logits[torch.arange(logits.shape[0]), idx.argmax(dim=-1)]\n",
    "\n",
    "        return logits"
   ],
   "id": "b70d11f8eff20f05",
   "outputs": [],
   "execution_count": 257
  },
  {
   "metadata": {
    "ExecuteTime": {
     "end_time": "2025-09-20T18:51:18.066332Z",
     "start_time": "2025-09-20T18:51:18.059467Z"
    }
   },
   "cell_type": "code",
   "source": [
    "def pair(sz: Union[int, tuple]):\n",
    "    if isinstance(sz, int):\n",
    "        return sz, sz\n",
    "    else:\n",
    "        return sz\n",
    "\n",
    "class VisionTransformer(nn.Module):\n",
    "    def __init__(self,\n",
    "                 # Vision\n",
    "                 img_size: Union[int, tuple],\n",
    "                 patch_num: Union[int, tuple],\n",
    "                 use_cls_tok: bool,\n",
    "                 # Transformer\n",
    "                 nlayer: int,\n",
    "                 embed_dim: int,\n",
    "                 nhead: int,\n",
    "                 attn_pdrop: float,\n",
    "                 ffn_pdrop: float,\n",
    "                 # Output\n",
    "                 num_classes: int\n",
    "                 ):\n",
    "        super(VisionTransformer, self).__init__()\n",
    "        # Properties\n",
    "        img_height, img_width = pair(img_size)\n",
    "        patch_height_n, patch_width_n = pair(patch_num)\n",
    "        scale = embed_dim ** -0.5\n",
    "\n",
    "        self.patch_height, self.patch_width = img_height // patch_height_n, img_width // patch_width_n\n",
    "        self.use_cls_tok = use_cls_tok\n",
    "\n",
    "        # Comps\n",
    "        self.to_patch = nn.Conv2d(\n",
    "            in_channels=3,\n",
    "            out_channels=embed_dim,\n",
    "            kernel_size=(patch_height_n, patch_width_n),\n",
    "            stride=(patch_height_n, patch_width_n),\n",
    "        )\n",
    "\n",
    "        self.pos_emb = nn.Parameter(scale * torch.randn(1, self.patch_height * self.patch_width + 1, embed_dim))\n",
    "        self.cls_emb = nn.Parameter(scale *  torch.randn(embed_dim))\n",
    "\n",
    "        self.ln_pre = nn.LayerNorm(embed_dim)\n",
    "        self.blocks = nn.ModuleList(\n",
    "            [Block(embed_dim, nhead, attn_pdrop, ffn_pdrop) for _ in range(nlayer)]\n",
    "        )\n",
    "        self.ln_post = nn.LayerNorm(embed_dim)\n",
    "\n",
    "        self.proj = nn.Parameter(scale * torch.randn(embed_dim, num_classes))\n",
    "\n",
    "    def forward(self, x):\n",
    "        patches = self.to_patch(x)\n",
    "\n",
    "        idx = rearrange(\n",
    "            patches, 'b c (ph h) (pw w) -> b (ph pw) (c h w)', ph=self.patch_height, pw=self.patch_width\n",
    "        )\n",
    "\n",
    "\n",
    "        idx = torch.cat(\n",
    "            (\n",
    "                idx,\n",
    "                repeat(self.cls_emb, 'e -> b 1 e', b=idx.shape[0])\n",
    "            ), dim=1\n",
    "        )\n",
    "        x = idx + self.pos_emb\n",
    "\n",
    "\n",
    "        x = self.ln_pre(x)\n",
    "        for block in self.blocks:\n",
    "            x = block(x)\n",
    "\n",
    "        if self.use_cls_tok:\n",
    "            x = x[:, 0, :]\n",
    "        else:\n",
    "            x = x[:, 1:, :].mean(dim=1)\n",
    "\n",
    "        x = self.ln_post(x)\n",
    "\n",
    "        return x @ self.proj"
   ],
   "id": "af41ab8dcba651a3",
   "outputs": [],
   "execution_count": 258
  },
  {
   "metadata": {
    "ExecuteTime": {
     "end_time": "2025-09-20T18:51:18.076086Z",
     "start_time": "2025-09-20T18:51:18.069415Z"
    }
   },
   "cell_type": "code",
   "source": [
    "class CLIP(nn.Module):\n",
    "    def __init__(self,\n",
    "                 img_encoder,\n",
    "                 text_encoder,\n",
    "                 ):\n",
    "        super(CLIP, self).__init__()\n",
    "        self.logit_scale = nn.Parameter(torch.ones([]) * np.log(1 / 0.07))\n",
    "\n",
    "        self.img_encoder = img_encoder\n",
    "        self.text_encoder = text_encoder\n",
    "\n",
    "    def encode_img(self, img):\n",
    "        return self.img_encoder(img)\n",
    "\n",
    "    def encode_text(self, text):\n",
    "        return self.text_encoder(text)\n",
    "\n",
    "    def forward(self, imgs, texts):\n",
    "        img_features = self.encode_img(imgs)\n",
    "        text_features = self.encode_text(texts)\n",
    "\n",
    "        if img_features.shape != text_features.shape:\n",
    "            raise ValueError(f'img_features shape {img_features.shape} != text_features shape {text_features.shape}')\n",
    "\n",
    "        img_features = img_features / img_features.norm(dim=1, keepdim=True)\n",
    "        text_features = text_features / text_features.norm(dim=1, keepdim=True)\n",
    "\n",
    "        logits_per_img = img_features @ text_features.t() * self.logit_scale.exp()\n",
    "        logits_per_text = logits_per_img.t()\n",
    "\n",
    "        return logits_per_img, logits_per_text"
   ],
   "id": "30c2205b0d61c16c",
   "outputs": [],
   "execution_count": 259
  },
  {
   "metadata": {
    "ExecuteTime": {
     "end_time": "2025-09-20T18:51:19.125612Z",
     "start_time": "2025-09-20T18:51:18.076086Z"
    }
   },
   "cell_type": "code",
   "source": [
    "ctx = Series()\n",
    "\n",
    "ctx.train_transform = transforms.Compose([\n",
    "    transforms.ToTensor(),\n",
    "    transforms.RandomCrop(32, padding=4),\n",
    "    transforms.RandomHorizontalFlip(),\n",
    "    transforms.RandomErasing(),\n",
    "    transforms.Normalize([0.4914, 0.4822, 0.4465], [0.2023, 0.1994, 0.2010])\n",
    "])\n",
    "\n",
    "ctx.test_transform = transforms.Compose([\n",
    "    transforms.ToTensor(),\n",
    "    transforms.Normalize([0.4914, 0.4822, 0.4465], [0.2023, 0.1994, 0.2010])\n",
    "])\n",
    "\n",
    "train_cifar10_ds = datasets.CIFAR10(root='~/data', train=True, transform=ctx.train_transform)\n",
    "test_cifar10_ds = datasets.CIFAR10(root='~/data', train=True, transform=ctx.test_transform)"
   ],
   "id": "887cb5b95a660b50",
   "outputs": [],
   "execution_count": 260
  },
  {
   "metadata": {
    "ExecuteTime": {
     "end_time": "2025-09-20T18:51:20.159940Z",
     "start_time": "2025-09-20T18:51:19.203945Z"
    }
   },
   "cell_type": "code",
   "source": [
    "ctx.device = 'cuda' if torch.cuda.is_available() else 'cpu'\n",
    "ctx.tokenizer = AutoTokenizer.from_pretrained('gpt2')\n",
    "ctx.tokenizer.pad_token = ctx.tokenizer.eos_token\n",
    "ctx.label2cls_dict = train_cifar10_ds.classes\n",
    "ctx.ctx_len = 5\n",
    "ctx.batch_size = 512\n",
    "\n",
    "def label2sentence(label, prefix='The photo of a '):\n",
    "    return prefix + ctx.label2cls_dict[label]\n",
    "\n",
    "def tokenize(s):\n",
    "    return ctx.tokenizer(\n",
    "        s,\n",
    "        max_length=ctx.ctx_len,\n",
    "        padding='max_length',\n",
    "        return_tensors='pt',\n",
    "    )['input_ids'].squeeze(dim=0)"
   ],
   "id": "c2e329d952161dfc",
   "outputs": [],
   "execution_count": 261
  },
  {
   "metadata": {
    "ExecuteTime": {
     "end_time": "2025-09-20T18:51:20.510992Z",
     "start_time": "2025-09-20T18:51:20.265899Z"
    }
   },
   "cell_type": "code",
   "source": [
    "class TextImgDataset(Dataset):\n",
    "    def __init__(self, img_label_ds):\n",
    "        self.img_label_ds = img_label_ds\n",
    "\n",
    "    def __len__(self):\n",
    "        return len(self.img_label_ds)\n",
    "\n",
    "    def __getitem__(self, index):\n",
    "        orig_img, orig_label = self.img_label_ds[index]\n",
    "        sentence = label2sentence(orig_label)\n",
    "        return orig_img, tokenize(sentence)\n",
    "\n",
    "train_dl = DataLoader(\n",
    "    TextImgDataset(train_cifar10_ds),\n",
    "    batch_size=ctx.batch_size,\n",
    "    shuffle=True,\n",
    ")\n",
    "\n",
    "test_dl = DataLoader(\n",
    "    TextImgDataset(test_cifar10_ds),\n",
    "    batch_size=ctx.batch_size,\n",
    "    shuffle=False,\n",
    ")\n",
    "\n",
    "for imgs, texts in train_dl:\n",
    "    print(imgs.shape, texts.shape)\n",
    "    break"
   ],
   "id": "84cbdfb6346986fa",
   "outputs": [
    {
     "name": "stdout",
     "output_type": "stream",
     "text": [
      "torch.Size([512, 3, 32, 32]) torch.Size([512, 5])\n"
     ]
    }
   ],
   "execution_count": 262
  },
  {
   "metadata": {
    "ExecuteTime": {
     "end_time": "2025-09-20T21:19:02.665553Z",
     "start_time": "2025-09-20T18:51:20.510992Z"
    }
   },
   "cell_type": "code",
   "source": [
    "def clip_loss(logits_per_image, logits_per_text):\n",
    "    b = logits_per_text.shape[0]\n",
    "    labels = torch.arange(0, b, device=logits_per_text.device)\n",
    "    image_loss = F.cross_entropy(logits_per_image, labels)\n",
    "    text_loss = F.cross_entropy(logits_per_text, labels)\n",
    "    return (image_loss + text_loss) / 2\n",
    "\n",
    "ctx.epochs = 256\n",
    "ctx.lr = 1e-4\n",
    "ctx.weight_decay = 1e-5\n",
    "ctx.eval_interval = 8\n",
    "ctx.saved_w = 'clip.pt'\n",
    "ctx.T_max = 32\n",
    "\n",
    "model = CLIP(\n",
    "    img_encoder=VisionTransformer(\n",
    "        img_size=32,\n",
    "        patch_num=8,\n",
    "        use_cls_tok=False,\n",
    "        nlayer=4,\n",
    "        embed_dim=768,\n",
    "        nhead=12,\n",
    "        attn_pdrop=0.2,\n",
    "        ffn_pdrop=0.2,\n",
    "        num_classes=128,\n",
    "    ),\n",
    "    text_encoder=TransformerLanguageModel(\n",
    "        vocab_size=ctx.tokenizer.vocab_size,\n",
    "        ctx_len=ctx.ctx_len,\n",
    "        embed_dim=768,\n",
    "        nlayer=4,\n",
    "        nhead=12,\n",
    "        attn_mask=None, # Default: Casual Attention Mask\n",
    "        attn_pdrop=0.2,\n",
    "        ffn_pdrop=0.2,\n",
    "        output_dim=128\n",
    "    )\n",
    ").to(ctx.device)\n",
    "\n",
    "if os.path.isfile(ctx.saved_w):\n",
    "    model.load_state_dict(torch.load(ctx.saved_w, weights_only=True))\n",
    "\n",
    "optimizer = torch.optim.AdamW(\n",
    "    model.parameters(),\n",
    "    lr=ctx.lr,\n",
    "    weight_decay=ctx.weight_decay,\n",
    ")\n",
    "\n",
    "scheduler = torch.optim.lr_scheduler.CosineAnnealingLR(\n",
    "    optimizer, ctx.T_max\n",
    ")\n",
    "\n",
    "@lru_cache\n",
    "def tokenized_sentences():\n",
    "    labels = range(len(ctx.label2cls_dict))\n",
    "    return torch.stack([tokenize(label2sentence(label)) for label in labels])\n",
    "\n",
    "@torch.no_grad()\n",
    "def eval_accuracy():\n",
    "    def eq_cnt(l1, l2):\n",
    "        n = len(l1)\n",
    "        cnt = 0\n",
    "        for i in range(n):\n",
    "            if l1[i] == l2[i]:\n",
    "                cnt += 1\n",
    "        return cnt\n",
    "    model.eval()\n",
    "    text_features = model.encode_text(\n",
    "        tokenized_sentences().to(ctx.device)\n",
    "    )\n",
    "    text_features = text_features / text_features.norm(dim=1, keepdim=True)\n",
    "    total = 0\n",
    "    correct = 0\n",
    "    pbar = tqdm(test_dl)\n",
    "    pbar.set_description_str('Evaling accuracy on test set')\n",
    "    for imgs, texts in pbar:\n",
    "        imgs = imgs.to(ctx.device)\n",
    "        texts = texts.to(ctx.device)\n",
    "        image_features = model.encode_img(imgs)\n",
    "        logits_per_image = image_features @ text_features.t()\n",
    "        labels = logits_per_image.argmax(dim=1)\n",
    "        pred = [label2sentence(label) for label in labels]\n",
    "        gt = [ctx.tokenizer.decode(text, skipskip_special_tokens=True) for text in texts]\n",
    "        total += len(imgs)\n",
    "        correct += eq_cnt(pred, gt)\n",
    "    return correct / total\n",
    "\n",
    "len_train_dl = len(train_dl)\n",
    "for epoch in range(1, ctx.epochs + 1):\n",
    "    train_avg_loss = 0.\n",
    "    pbar = tqdm(train_dl)\n",
    "    pbar.set_description_str(f'Training one epoch {epoch}/{ctx.epochs}')\n",
    "    for imgs, texts in pbar:\n",
    "        imgs = imgs.to(ctx.device)\n",
    "        texts = texts.to(ctx.device)\n",
    "        optimizer.zero_grad()\n",
    "        logits_per_image, logits_per_text = model(imgs, texts)\n",
    "        loss = clip_loss(logits_per_image, logits_per_text)\n",
    "        train_avg_loss += loss.item() / len_train_dl\n",
    "        loss.backward()\n",
    "        optimizer.step()\n",
    "    if epoch % ctx.eval_interval == 0:\n",
    "        print(f'{epoch}/{ctx.epochs}, train_avg_loss: {train_avg_loss:.3f}, test_acc: {eval_accuracy()}')\n",
    "    else:\n",
    "        print(f'{epoch}/{ctx.epochs}, train_avg_loss: {train_avg_loss:.3f}')"
   ],
   "id": "ea01f52e7cd80378",
   "outputs": [
    {
     "name": "stderr",
     "output_type": "stream",
     "text": [
      "Training one epoch 1/256: 100%|██████████| 98/98 [00:32<00:00,  3.04it/s]\n"
     ]
    },
    {
     "name": "stdout",
     "output_type": "stream",
     "text": [
      "1/256, train_avg_loss: 6.194\n"
     ]
    },
    {
     "name": "stderr",
     "output_type": "stream",
     "text": [
      "Training one epoch 2/256: 100%|██████████| 98/98 [00:32<00:00,  3.02it/s]\n"
     ]
    },
    {
     "name": "stdout",
     "output_type": "stream",
     "text": [
      "2/256, train_avg_loss: 5.972\n"
     ]
    },
    {
     "name": "stderr",
     "output_type": "stream",
     "text": [
      "Training one epoch 3/256: 100%|██████████| 98/98 [00:32<00:00,  3.04it/s]\n"
     ]
    },
    {
     "name": "stdout",
     "output_type": "stream",
     "text": [
      "3/256, train_avg_loss: 5.846\n"
     ]
    },
    {
     "name": "stderr",
     "output_type": "stream",
     "text": [
      "Training one epoch 4/256: 100%|██████████| 98/98 [00:32<00:00,  3.04it/s]\n"
     ]
    },
    {
     "name": "stdout",
     "output_type": "stream",
     "text": [
      "4/256, train_avg_loss: 5.748\n"
     ]
    },
    {
     "name": "stderr",
     "output_type": "stream",
     "text": [
      "Training one epoch 5/256: 100%|██████████| 98/98 [00:32<00:00,  3.04it/s]\n"
     ]
    },
    {
     "name": "stdout",
     "output_type": "stream",
     "text": [
      "5/256, train_avg_loss: 5.664\n"
     ]
    },
    {
     "name": "stderr",
     "output_type": "stream",
     "text": [
      "Training one epoch 6/256: 100%|██████████| 98/98 [00:32<00:00,  3.04it/s]\n"
     ]
    },
    {
     "name": "stdout",
     "output_type": "stream",
     "text": [
      "6/256, train_avg_loss: 5.581\n"
     ]
    },
    {
     "name": "stderr",
     "output_type": "stream",
     "text": [
      "Training one epoch 7/256: 100%|██████████| 98/98 [00:32<00:00,  3.02it/s]\n"
     ]
    },
    {
     "name": "stdout",
     "output_type": "stream",
     "text": [
      "7/256, train_avg_loss: 5.524\n"
     ]
    },
    {
     "name": "stderr",
     "output_type": "stream",
     "text": [
      "Training one epoch 8/256: 100%|██████████| 98/98 [00:32<00:00,  3.04it/s]\n",
      "Evaling accuracy on test set: 100%|██████████| 98/98 [00:21<00:00,  4.58it/s]\n"
     ]
    },
    {
     "name": "stdout",
     "output_type": "stream",
     "text": [
      "8/256, train_avg_loss: 5.476, test_acc: 0.48132\n"
     ]
    },
    {
     "name": "stderr",
     "output_type": "stream",
     "text": [
      "Training one epoch 9/256: 100%|██████████| 98/98 [00:31<00:00,  3.08it/s]\n"
     ]
    },
    {
     "name": "stdout",
     "output_type": "stream",
     "text": [
      "9/256, train_avg_loss: 5.423\n"
     ]
    },
    {
     "name": "stderr",
     "output_type": "stream",
     "text": [
      "Training one epoch 10/256: 100%|██████████| 98/98 [00:31<00:00,  3.08it/s]\n"
     ]
    },
    {
     "name": "stdout",
     "output_type": "stream",
     "text": [
      "10/256, train_avg_loss: 5.369\n"
     ]
    },
    {
     "name": "stderr",
     "output_type": "stream",
     "text": [
      "Training one epoch 11/256: 100%|██████████| 98/98 [00:31<00:00,  3.08it/s]\n"
     ]
    },
    {
     "name": "stdout",
     "output_type": "stream",
     "text": [
      "11/256, train_avg_loss: 5.334\n"
     ]
    },
    {
     "name": "stderr",
     "output_type": "stream",
     "text": [
      "Training one epoch 12/256: 100%|██████████| 98/98 [00:32<00:00,  3.05it/s]\n"
     ]
    },
    {
     "name": "stdout",
     "output_type": "stream",
     "text": [
      "12/256, train_avg_loss: 5.305\n"
     ]
    },
    {
     "name": "stderr",
     "output_type": "stream",
     "text": [
      "Training one epoch 13/256: 100%|██████████| 98/98 [00:31<00:00,  3.08it/s]\n"
     ]
    },
    {
     "name": "stdout",
     "output_type": "stream",
     "text": [
      "13/256, train_avg_loss: 5.271\n"
     ]
    },
    {
     "name": "stderr",
     "output_type": "stream",
     "text": [
      "Training one epoch 14/256: 100%|██████████| 98/98 [00:31<00:00,  3.07it/s]\n"
     ]
    },
    {
     "name": "stdout",
     "output_type": "stream",
     "text": [
      "14/256, train_avg_loss: 5.245\n"
     ]
    },
    {
     "name": "stderr",
     "output_type": "stream",
     "text": [
      "Training one epoch 15/256: 100%|██████████| 98/98 [00:31<00:00,  3.08it/s]\n"
     ]
    },
    {
     "name": "stdout",
     "output_type": "stream",
     "text": [
      "15/256, train_avg_loss: 5.221\n"
     ]
    },
    {
     "name": "stderr",
     "output_type": "stream",
     "text": [
      "Training one epoch 16/256: 100%|██████████| 98/98 [00:31<00:00,  3.07it/s]\n",
      "Evaling accuracy on test set: 100%|██████████| 98/98 [00:21<00:00,  4.53it/s]\n"
     ]
    },
    {
     "name": "stdout",
     "output_type": "stream",
     "text": [
      "16/256, train_avg_loss: 5.196, test_acc: 0.56344\n"
     ]
    },
    {
     "name": "stderr",
     "output_type": "stream",
     "text": [
      "Training one epoch 17/256: 100%|██████████| 98/98 [00:31<00:00,  3.08it/s]\n"
     ]
    },
    {
     "name": "stdout",
     "output_type": "stream",
     "text": [
      "17/256, train_avg_loss: 5.175\n"
     ]
    },
    {
     "name": "stderr",
     "output_type": "stream",
     "text": [
      "Training one epoch 18/256: 100%|██████████| 98/98 [00:31<00:00,  3.08it/s]\n"
     ]
    },
    {
     "name": "stdout",
     "output_type": "stream",
     "text": [
      "18/256, train_avg_loss: 5.146\n"
     ]
    },
    {
     "name": "stderr",
     "output_type": "stream",
     "text": [
      "Training one epoch 19/256: 100%|██████████| 98/98 [00:31<00:00,  3.08it/s]\n"
     ]
    },
    {
     "name": "stdout",
     "output_type": "stream",
     "text": [
      "19/256, train_avg_loss: 5.134\n"
     ]
    },
    {
     "name": "stderr",
     "output_type": "stream",
     "text": [
      "Training one epoch 20/256: 100%|██████████| 98/98 [00:31<00:00,  3.08it/s]\n"
     ]
    },
    {
     "name": "stdout",
     "output_type": "stream",
     "text": [
      "20/256, train_avg_loss: 5.104\n"
     ]
    },
    {
     "name": "stderr",
     "output_type": "stream",
     "text": [
      "Training one epoch 21/256: 100%|██████████| 98/98 [00:32<00:00,  3.06it/s]\n"
     ]
    },
    {
     "name": "stdout",
     "output_type": "stream",
     "text": [
      "21/256, train_avg_loss: 5.091\n"
     ]
    },
    {
     "name": "stderr",
     "output_type": "stream",
     "text": [
      "Training one epoch 22/256: 100%|██████████| 98/98 [00:31<00:00,  3.07it/s]\n"
     ]
    },
    {
     "name": "stdout",
     "output_type": "stream",
     "text": [
      "22/256, train_avg_loss: 5.076\n"
     ]
    },
    {
     "name": "stderr",
     "output_type": "stream",
     "text": [
      "Training one epoch 23/256: 100%|██████████| 98/98 [00:31<00:00,  3.08it/s]\n"
     ]
    },
    {
     "name": "stdout",
     "output_type": "stream",
     "text": [
      "23/256, train_avg_loss: 5.055\n"
     ]
    },
    {
     "name": "stderr",
     "output_type": "stream",
     "text": [
      "Training one epoch 24/256: 100%|██████████| 98/98 [00:31<00:00,  3.08it/s]\n",
      "Evaling accuracy on test set: 100%|██████████| 98/98 [00:21<00:00,  4.57it/s]\n"
     ]
    },
    {
     "name": "stdout",
     "output_type": "stream",
     "text": [
      "24/256, train_avg_loss: 5.045, test_acc: 0.6131\n"
     ]
    },
    {
     "name": "stderr",
     "output_type": "stream",
     "text": [
      "Training one epoch 25/256: 100%|██████████| 98/98 [00:31<00:00,  3.08it/s]\n"
     ]
    },
    {
     "name": "stdout",
     "output_type": "stream",
     "text": [
      "25/256, train_avg_loss: 5.024\n"
     ]
    },
    {
     "name": "stderr",
     "output_type": "stream",
     "text": [
      "Training one epoch 26/256: 100%|██████████| 98/98 [00:32<00:00,  3.06it/s]\n"
     ]
    },
    {
     "name": "stdout",
     "output_type": "stream",
     "text": [
      "26/256, train_avg_loss: 5.013\n"
     ]
    },
    {
     "name": "stderr",
     "output_type": "stream",
     "text": [
      "Training one epoch 27/256: 100%|██████████| 98/98 [00:31<00:00,  3.08it/s]\n"
     ]
    },
    {
     "name": "stdout",
     "output_type": "stream",
     "text": [
      "27/256, train_avg_loss: 5.001\n"
     ]
    },
    {
     "name": "stderr",
     "output_type": "stream",
     "text": [
      "Training one epoch 28/256: 100%|██████████| 98/98 [00:31<00:00,  3.07it/s]\n"
     ]
    },
    {
     "name": "stdout",
     "output_type": "stream",
     "text": [
      "28/256, train_avg_loss: 4.989\n"
     ]
    },
    {
     "name": "stderr",
     "output_type": "stream",
     "text": [
      "Training one epoch 29/256: 100%|██████████| 98/98 [00:31<00:00,  3.07it/s]\n"
     ]
    },
    {
     "name": "stdout",
     "output_type": "stream",
     "text": [
      "29/256, train_avg_loss: 4.973\n"
     ]
    },
    {
     "name": "stderr",
     "output_type": "stream",
     "text": [
      "Training one epoch 30/256: 100%|██████████| 98/98 [00:31<00:00,  3.07it/s]\n"
     ]
    },
    {
     "name": "stdout",
     "output_type": "stream",
     "text": [
      "30/256, train_avg_loss: 4.962\n"
     ]
    },
    {
     "name": "stderr",
     "output_type": "stream",
     "text": [
      "Training one epoch 31/256: 100%|██████████| 98/98 [00:32<00:00,  3.05it/s]\n"
     ]
    },
    {
     "name": "stdout",
     "output_type": "stream",
     "text": [
      "31/256, train_avg_loss: 4.953\n"
     ]
    },
    {
     "name": "stderr",
     "output_type": "stream",
     "text": [
      "Training one epoch 32/256: 100%|██████████| 98/98 [00:31<00:00,  3.08it/s]\n",
      "Evaling accuracy on test set: 100%|██████████| 98/98 [00:21<00:00,  4.58it/s]\n"
     ]
    },
    {
     "name": "stdout",
     "output_type": "stream",
     "text": [
      "32/256, train_avg_loss: 4.941, test_acc: 0.6478\n"
     ]
    },
    {
     "name": "stderr",
     "output_type": "stream",
     "text": [
      "Training one epoch 33/256: 100%|██████████| 98/98 [00:31<00:00,  3.08it/s]\n"
     ]
    },
    {
     "name": "stdout",
     "output_type": "stream",
     "text": [
      "33/256, train_avg_loss: 4.926\n"
     ]
    },
    {
     "name": "stderr",
     "output_type": "stream",
     "text": [
      "Training one epoch 34/256: 100%|██████████| 98/98 [00:31<00:00,  3.07it/s]\n"
     ]
    },
    {
     "name": "stdout",
     "output_type": "stream",
     "text": [
      "34/256, train_avg_loss: 4.922\n"
     ]
    },
    {
     "name": "stderr",
     "output_type": "stream",
     "text": [
      "Training one epoch 35/256: 100%|██████████| 98/98 [00:31<00:00,  3.07it/s]\n"
     ]
    },
    {
     "name": "stdout",
     "output_type": "stream",
     "text": [
      "35/256, train_avg_loss: 4.902\n"
     ]
    },
    {
     "name": "stderr",
     "output_type": "stream",
     "text": [
      "Training one epoch 36/256: 100%|██████████| 98/98 [00:32<00:00,  3.05it/s]\n"
     ]
    },
    {
     "name": "stdout",
     "output_type": "stream",
     "text": [
      "36/256, train_avg_loss: 4.895\n"
     ]
    },
    {
     "name": "stderr",
     "output_type": "stream",
     "text": [
      "Training one epoch 37/256: 100%|██████████| 98/98 [00:31<00:00,  3.07it/s]\n"
     ]
    },
    {
     "name": "stdout",
     "output_type": "stream",
     "text": [
      "37/256, train_avg_loss: 4.881\n"
     ]
    },
    {
     "name": "stderr",
     "output_type": "stream",
     "text": [
      "Training one epoch 38/256: 100%|██████████| 98/98 [00:31<00:00,  3.07it/s]\n"
     ]
    },
    {
     "name": "stdout",
     "output_type": "stream",
     "text": [
      "38/256, train_avg_loss: 4.878\n"
     ]
    },
    {
     "name": "stderr",
     "output_type": "stream",
     "text": [
      "Training one epoch 39/256: 100%|██████████| 98/98 [00:31<00:00,  3.07it/s]\n"
     ]
    },
    {
     "name": "stdout",
     "output_type": "stream",
     "text": [
      "39/256, train_avg_loss: 4.869\n"
     ]
    },
    {
     "name": "stderr",
     "output_type": "stream",
     "text": [
      "Training one epoch 40/256: 100%|██████████| 98/98 [00:31<00:00,  3.08it/s]\n",
      "Evaling accuracy on test set: 100%|██████████| 98/98 [00:21<00:00,  4.54it/s]\n"
     ]
    },
    {
     "name": "stdout",
     "output_type": "stream",
     "text": [
      "40/256, train_avg_loss: 4.854, test_acc: 0.6695\n"
     ]
    },
    {
     "name": "stderr",
     "output_type": "stream",
     "text": [
      "Training one epoch 41/256: 100%|██████████| 98/98 [00:31<00:00,  3.07it/s]\n"
     ]
    },
    {
     "name": "stdout",
     "output_type": "stream",
     "text": [
      "41/256, train_avg_loss: 4.845\n"
     ]
    },
    {
     "name": "stderr",
     "output_type": "stream",
     "text": [
      "Training one epoch 42/256: 100%|██████████| 98/98 [00:31<00:00,  3.08it/s]\n"
     ]
    },
    {
     "name": "stdout",
     "output_type": "stream",
     "text": [
      "42/256, train_avg_loss: 4.841\n"
     ]
    },
    {
     "name": "stderr",
     "output_type": "stream",
     "text": [
      "Training one epoch 43/256: 100%|██████████| 98/98 [00:31<00:00,  3.08it/s]\n"
     ]
    },
    {
     "name": "stdout",
     "output_type": "stream",
     "text": [
      "43/256, train_avg_loss: 4.829\n"
     ]
    },
    {
     "name": "stderr",
     "output_type": "stream",
     "text": [
      "Training one epoch 44/256: 100%|██████████| 98/98 [00:31<00:00,  3.08it/s]\n"
     ]
    },
    {
     "name": "stdout",
     "output_type": "stream",
     "text": [
      "44/256, train_avg_loss: 4.819\n"
     ]
    },
    {
     "name": "stderr",
     "output_type": "stream",
     "text": [
      "Training one epoch 45/256: 100%|██████████| 98/98 [00:32<00:00,  3.06it/s]\n"
     ]
    },
    {
     "name": "stdout",
     "output_type": "stream",
     "text": [
      "45/256, train_avg_loss: 4.814\n"
     ]
    },
    {
     "name": "stderr",
     "output_type": "stream",
     "text": [
      "Training one epoch 46/256: 100%|██████████| 98/98 [00:31<00:00,  3.06it/s]\n"
     ]
    },
    {
     "name": "stdout",
     "output_type": "stream",
     "text": [
      "46/256, train_avg_loss: 4.806\n"
     ]
    },
    {
     "name": "stderr",
     "output_type": "stream",
     "text": [
      "Training one epoch 47/256: 100%|██████████| 98/98 [00:31<00:00,  3.07it/s]\n"
     ]
    },
    {
     "name": "stdout",
     "output_type": "stream",
     "text": [
      "47/256, train_avg_loss: 4.795\n"
     ]
    },
    {
     "name": "stderr",
     "output_type": "stream",
     "text": [
      "Training one epoch 48/256: 100%|██████████| 98/98 [00:31<00:00,  3.07it/s]\n",
      "Evaling accuracy on test set: 100%|██████████| 98/98 [00:21<00:00,  4.57it/s]\n"
     ]
    },
    {
     "name": "stdout",
     "output_type": "stream",
     "text": [
      "48/256, train_avg_loss: 4.790, test_acc: 0.69254\n"
     ]
    },
    {
     "name": "stderr",
     "output_type": "stream",
     "text": [
      "Training one epoch 49/256: 100%|██████████| 98/98 [00:31<00:00,  3.08it/s]\n"
     ]
    },
    {
     "name": "stdout",
     "output_type": "stream",
     "text": [
      "49/256, train_avg_loss: 4.780\n"
     ]
    },
    {
     "name": "stderr",
     "output_type": "stream",
     "text": [
      "Training one epoch 50/256: 100%|██████████| 98/98 [00:32<00:00,  3.06it/s]\n"
     ]
    },
    {
     "name": "stdout",
     "output_type": "stream",
     "text": [
      "50/256, train_avg_loss: 4.765\n"
     ]
    },
    {
     "name": "stderr",
     "output_type": "stream",
     "text": [
      "Training one epoch 51/256: 100%|██████████| 98/98 [00:31<00:00,  3.07it/s]\n"
     ]
    },
    {
     "name": "stdout",
     "output_type": "stream",
     "text": [
      "51/256, train_avg_loss: 4.772\n"
     ]
    },
    {
     "name": "stderr",
     "output_type": "stream",
     "text": [
      "Training one epoch 52/256: 100%|██████████| 98/98 [00:31<00:00,  3.08it/s]\n"
     ]
    },
    {
     "name": "stdout",
     "output_type": "stream",
     "text": [
      "52/256, train_avg_loss: 4.761\n"
     ]
    },
    {
     "name": "stderr",
     "output_type": "stream",
     "text": [
      "Training one epoch 53/256: 100%|██████████| 98/98 [00:31<00:00,  3.07it/s]\n"
     ]
    },
    {
     "name": "stdout",
     "output_type": "stream",
     "text": [
      "53/256, train_avg_loss: 4.749\n"
     ]
    },
    {
     "name": "stderr",
     "output_type": "stream",
     "text": [
      "Training one epoch 54/256: 100%|██████████| 98/98 [00:31<00:00,  3.07it/s]\n"
     ]
    },
    {
     "name": "stdout",
     "output_type": "stream",
     "text": [
      "54/256, train_avg_loss: 4.742\n"
     ]
    },
    {
     "name": "stderr",
     "output_type": "stream",
     "text": [
      "Training one epoch 55/256: 100%|██████████| 98/98 [00:32<00:00,  3.06it/s]\n"
     ]
    },
    {
     "name": "stdout",
     "output_type": "stream",
     "text": [
      "55/256, train_avg_loss: 4.740\n"
     ]
    },
    {
     "name": "stderr",
     "output_type": "stream",
     "text": [
      "Training one epoch 56/256: 100%|██████████| 98/98 [00:31<00:00,  3.07it/s]\n",
      "Evaling accuracy on test set: 100%|██████████| 98/98 [00:21<00:00,  4.58it/s]\n"
     ]
    },
    {
     "name": "stdout",
     "output_type": "stream",
     "text": [
      "56/256, train_avg_loss: 4.723, test_acc: 0.70988\n"
     ]
    },
    {
     "name": "stderr",
     "output_type": "stream",
     "text": [
      "Training one epoch 57/256: 100%|██████████| 98/98 [00:31<00:00,  3.09it/s]\n"
     ]
    },
    {
     "name": "stdout",
     "output_type": "stream",
     "text": [
      "57/256, train_avg_loss: 4.722\n"
     ]
    },
    {
     "name": "stderr",
     "output_type": "stream",
     "text": [
      "Training one epoch 58/256: 100%|██████████| 98/98 [00:31<00:00,  3.07it/s]\n"
     ]
    },
    {
     "name": "stdout",
     "output_type": "stream",
     "text": [
      "58/256, train_avg_loss: 4.717\n"
     ]
    },
    {
     "name": "stderr",
     "output_type": "stream",
     "text": [
      "Training one epoch 59/256: 100%|██████████| 98/98 [00:31<00:00,  3.08it/s]\n"
     ]
    },
    {
     "name": "stdout",
     "output_type": "stream",
     "text": [
      "59/256, train_avg_loss: 4.703\n"
     ]
    },
    {
     "name": "stderr",
     "output_type": "stream",
     "text": [
      "Training one epoch 60/256: 100%|██████████| 98/98 [00:32<00:00,  3.06it/s]\n"
     ]
    },
    {
     "name": "stdout",
     "output_type": "stream",
     "text": [
      "60/256, train_avg_loss: 4.704\n"
     ]
    },
    {
     "name": "stderr",
     "output_type": "stream",
     "text": [
      "Training one epoch 61/256: 100%|██████████| 98/98 [00:31<00:00,  3.08it/s]\n"
     ]
    },
    {
     "name": "stdout",
     "output_type": "stream",
     "text": [
      "61/256, train_avg_loss: 4.692\n"
     ]
    },
    {
     "name": "stderr",
     "output_type": "stream",
     "text": [
      "Training one epoch 62/256: 100%|██████████| 98/98 [00:31<00:00,  3.07it/s]\n"
     ]
    },
    {
     "name": "stdout",
     "output_type": "stream",
     "text": [
      "62/256, train_avg_loss: 4.686\n"
     ]
    },
    {
     "name": "stderr",
     "output_type": "stream",
     "text": [
      "Training one epoch 63/256: 100%|██████████| 98/98 [00:31<00:00,  3.08it/s]\n"
     ]
    },
    {
     "name": "stdout",
     "output_type": "stream",
     "text": [
      "63/256, train_avg_loss: 4.680\n"
     ]
    },
    {
     "name": "stderr",
     "output_type": "stream",
     "text": [
      "Training one epoch 64/256: 100%|██████████| 98/98 [00:31<00:00,  3.08it/s]\n",
      "Evaling accuracy on test set: 100%|██████████| 98/98 [00:21<00:00,  4.52it/s]\n"
     ]
    },
    {
     "name": "stdout",
     "output_type": "stream",
     "text": [
      "64/256, train_avg_loss: 4.671, test_acc: 0.72536\n"
     ]
    },
    {
     "name": "stderr",
     "output_type": "stream",
     "text": [
      "Training one epoch 65/256: 100%|██████████| 98/98 [00:31<00:00,  3.09it/s]\n"
     ]
    },
    {
     "name": "stdout",
     "output_type": "stream",
     "text": [
      "65/256, train_avg_loss: 4.666\n"
     ]
    },
    {
     "name": "stderr",
     "output_type": "stream",
     "text": [
      "Training one epoch 66/256: 100%|██████████| 98/98 [00:31<00:00,  3.09it/s]\n"
     ]
    },
    {
     "name": "stdout",
     "output_type": "stream",
     "text": [
      "66/256, train_avg_loss: 4.660\n"
     ]
    },
    {
     "name": "stderr",
     "output_type": "stream",
     "text": [
      "Training one epoch 67/256: 100%|██████████| 98/98 [00:31<00:00,  3.09it/s]\n"
     ]
    },
    {
     "name": "stdout",
     "output_type": "stream",
     "text": [
      "67/256, train_avg_loss: 4.656\n"
     ]
    },
    {
     "name": "stderr",
     "output_type": "stream",
     "text": [
      "Training one epoch 68/256: 100%|██████████| 98/98 [00:31<00:00,  3.07it/s]\n"
     ]
    },
    {
     "name": "stdout",
     "output_type": "stream",
     "text": [
      "68/256, train_avg_loss: 4.649\n"
     ]
    },
    {
     "name": "stderr",
     "output_type": "stream",
     "text": [
      "Training one epoch 69/256: 100%|██████████| 98/98 [00:32<00:00,  3.06it/s]\n"
     ]
    },
    {
     "name": "stdout",
     "output_type": "stream",
     "text": [
      "69/256, train_avg_loss: 4.644\n"
     ]
    },
    {
     "name": "stderr",
     "output_type": "stream",
     "text": [
      "Training one epoch 70/256: 100%|██████████| 98/98 [00:31<00:00,  3.08it/s]\n"
     ]
    },
    {
     "name": "stdout",
     "output_type": "stream",
     "text": [
      "70/256, train_avg_loss: 4.637\n"
     ]
    },
    {
     "name": "stderr",
     "output_type": "stream",
     "text": [
      "Training one epoch 71/256: 100%|██████████| 98/98 [00:31<00:00,  3.07it/s]\n"
     ]
    },
    {
     "name": "stdout",
     "output_type": "stream",
     "text": [
      "71/256, train_avg_loss: 4.632\n"
     ]
    },
    {
     "name": "stderr",
     "output_type": "stream",
     "text": [
      "Training one epoch 72/256: 100%|██████████| 98/98 [00:31<00:00,  3.08it/s]\n",
      "Evaling accuracy on test set: 100%|██████████| 98/98 [00:21<00:00,  4.58it/s]\n"
     ]
    },
    {
     "name": "stdout",
     "output_type": "stream",
     "text": [
      "72/256, train_avg_loss: 4.628, test_acc: 0.73794\n"
     ]
    },
    {
     "name": "stderr",
     "output_type": "stream",
     "text": [
      "Training one epoch 73/256: 100%|██████████| 98/98 [00:31<00:00,  3.09it/s]\n"
     ]
    },
    {
     "name": "stdout",
     "output_type": "stream",
     "text": [
      "73/256, train_avg_loss: 4.626\n"
     ]
    },
    {
     "name": "stderr",
     "output_type": "stream",
     "text": [
      "Training one epoch 74/256: 100%|██████████| 98/98 [00:31<00:00,  3.07it/s]\n"
     ]
    },
    {
     "name": "stdout",
     "output_type": "stream",
     "text": [
      "74/256, train_avg_loss: 4.616\n"
     ]
    },
    {
     "name": "stderr",
     "output_type": "stream",
     "text": [
      "Training one epoch 75/256: 100%|██████████| 98/98 [00:31<00:00,  3.08it/s]\n"
     ]
    },
    {
     "name": "stdout",
     "output_type": "stream",
     "text": [
      "75/256, train_avg_loss: 4.613\n"
     ]
    },
    {
     "name": "stderr",
     "output_type": "stream",
     "text": [
      "Training one epoch 76/256: 100%|██████████| 98/98 [00:31<00:00,  3.07it/s]\n"
     ]
    },
    {
     "name": "stdout",
     "output_type": "stream",
     "text": [
      "76/256, train_avg_loss: 4.607\n"
     ]
    },
    {
     "name": "stderr",
     "output_type": "stream",
     "text": [
      "Training one epoch 77/256: 100%|██████████| 98/98 [00:31<00:00,  3.08it/s]\n"
     ]
    },
    {
     "name": "stdout",
     "output_type": "stream",
     "text": [
      "77/256, train_avg_loss: 4.599\n"
     ]
    },
    {
     "name": "stderr",
     "output_type": "stream",
     "text": [
      "Training one epoch 78/256: 100%|██████████| 98/98 [00:31<00:00,  3.08it/s]\n"
     ]
    },
    {
     "name": "stdout",
     "output_type": "stream",
     "text": [
      "78/256, train_avg_loss: 4.595\n"
     ]
    },
    {
     "name": "stderr",
     "output_type": "stream",
     "text": [
      "Training one epoch 79/256: 100%|██████████| 98/98 [00:32<00:00,  3.06it/s]\n"
     ]
    },
    {
     "name": "stdout",
     "output_type": "stream",
     "text": [
      "79/256, train_avg_loss: 4.593\n"
     ]
    },
    {
     "name": "stderr",
     "output_type": "stream",
     "text": [
      "Training one epoch 80/256: 100%|██████████| 98/98 [00:31<00:00,  3.08it/s]\n",
      "Evaling accuracy on test set: 100%|██████████| 98/98 [00:21<00:00,  4.58it/s]\n"
     ]
    },
    {
     "name": "stdout",
     "output_type": "stream",
     "text": [
      "80/256, train_avg_loss: 4.586, test_acc: 0.75274\n"
     ]
    },
    {
     "name": "stderr",
     "output_type": "stream",
     "text": [
      "Training one epoch 81/256: 100%|██████████| 98/98 [00:31<00:00,  3.08it/s]\n"
     ]
    },
    {
     "name": "stdout",
     "output_type": "stream",
     "text": [
      "81/256, train_avg_loss: 4.580\n"
     ]
    },
    {
     "name": "stderr",
     "output_type": "stream",
     "text": [
      "Training one epoch 82/256: 100%|██████████| 98/98 [00:31<00:00,  3.08it/s]\n"
     ]
    },
    {
     "name": "stdout",
     "output_type": "stream",
     "text": [
      "82/256, train_avg_loss: 4.575\n"
     ]
    },
    {
     "name": "stderr",
     "output_type": "stream",
     "text": [
      "Training one epoch 83/256: 100%|██████████| 98/98 [00:31<00:00,  3.08it/s]\n"
     ]
    },
    {
     "name": "stdout",
     "output_type": "stream",
     "text": [
      "83/256, train_avg_loss: 4.575\n"
     ]
    },
    {
     "name": "stderr",
     "output_type": "stream",
     "text": [
      "Training one epoch 84/256: 100%|██████████| 98/98 [00:31<00:00,  3.07it/s]\n"
     ]
    },
    {
     "name": "stdout",
     "output_type": "stream",
     "text": [
      "84/256, train_avg_loss: 4.563\n"
     ]
    },
    {
     "name": "stderr",
     "output_type": "stream",
     "text": [
      "Training one epoch 85/256: 100%|██████████| 98/98 [00:31<00:00,  3.08it/s]\n"
     ]
    },
    {
     "name": "stdout",
     "output_type": "stream",
     "text": [
      "85/256, train_avg_loss: 4.562\n"
     ]
    },
    {
     "name": "stderr",
     "output_type": "stream",
     "text": [
      "Training one epoch 86/256: 100%|██████████| 98/98 [00:31<00:00,  3.08it/s]\n"
     ]
    },
    {
     "name": "stdout",
     "output_type": "stream",
     "text": [
      "86/256, train_avg_loss: 4.554\n"
     ]
    },
    {
     "name": "stderr",
     "output_type": "stream",
     "text": [
      "Training one epoch 87/256: 100%|██████████| 98/98 [00:31<00:00,  3.08it/s]\n"
     ]
    },
    {
     "name": "stdout",
     "output_type": "stream",
     "text": [
      "87/256, train_avg_loss: 4.551\n"
     ]
    },
    {
     "name": "stderr",
     "output_type": "stream",
     "text": [
      "Training one epoch 88/256: 100%|██████████| 98/98 [00:31<00:00,  3.07it/s]\n",
      "Evaling accuracy on test set: 100%|██████████| 98/98 [00:21<00:00,  4.54it/s]\n"
     ]
    },
    {
     "name": "stdout",
     "output_type": "stream",
     "text": [
      "88/256, train_avg_loss: 4.542, test_acc: 0.76002\n"
     ]
    },
    {
     "name": "stderr",
     "output_type": "stream",
     "text": [
      "Training one epoch 89/256: 100%|██████████| 98/98 [00:31<00:00,  3.09it/s]\n"
     ]
    },
    {
     "name": "stdout",
     "output_type": "stream",
     "text": [
      "89/256, train_avg_loss: 4.541\n"
     ]
    },
    {
     "name": "stderr",
     "output_type": "stream",
     "text": [
      "Training one epoch 90/256: 100%|██████████| 98/98 [00:31<00:00,  3.08it/s]\n"
     ]
    },
    {
     "name": "stdout",
     "output_type": "stream",
     "text": [
      "90/256, train_avg_loss: 4.543\n"
     ]
    },
    {
     "name": "stderr",
     "output_type": "stream",
     "text": [
      "Training one epoch 91/256: 100%|██████████| 98/98 [00:31<00:00,  3.08it/s]\n"
     ]
    },
    {
     "name": "stdout",
     "output_type": "stream",
     "text": [
      "91/256, train_avg_loss: 4.544\n"
     ]
    },
    {
     "name": "stderr",
     "output_type": "stream",
     "text": [
      "Training one epoch 92/256: 100%|██████████| 98/98 [00:31<00:00,  3.07it/s]\n"
     ]
    },
    {
     "name": "stdout",
     "output_type": "stream",
     "text": [
      "92/256, train_avg_loss: 4.534\n"
     ]
    },
    {
     "name": "stderr",
     "output_type": "stream",
     "text": [
      "Training one epoch 93/256: 100%|██████████| 98/98 [00:31<00:00,  3.07it/s]\n"
     ]
    },
    {
     "name": "stdout",
     "output_type": "stream",
     "text": [
      "93/256, train_avg_loss: 4.528\n"
     ]
    },
    {
     "name": "stderr",
     "output_type": "stream",
     "text": [
      "Training one epoch 94/256: 100%|██████████| 98/98 [00:31<00:00,  3.07it/s]\n"
     ]
    },
    {
     "name": "stdout",
     "output_type": "stream",
     "text": [
      "94/256, train_avg_loss: 4.525\n"
     ]
    },
    {
     "name": "stderr",
     "output_type": "stream",
     "text": [
      "Training one epoch 95/256: 100%|██████████| 98/98 [00:31<00:00,  3.07it/s]\n"
     ]
    },
    {
     "name": "stdout",
     "output_type": "stream",
     "text": [
      "95/256, train_avg_loss: 4.520\n"
     ]
    },
    {
     "name": "stderr",
     "output_type": "stream",
     "text": [
      "Training one epoch 96/256: 100%|██████████| 98/98 [00:35<00:00,  2.79it/s]\n",
      "Evaling accuracy on test set: 100%|██████████| 98/98 [00:21<00:00,  4.57it/s]\n"
     ]
    },
    {
     "name": "stdout",
     "output_type": "stream",
     "text": [
      "96/256, train_avg_loss: 4.520, test_acc: 0.76658\n"
     ]
    },
    {
     "name": "stderr",
     "output_type": "stream",
     "text": [
      "Training one epoch 97/256: 100%|██████████| 98/98 [00:31<00:00,  3.09it/s]\n"
     ]
    },
    {
     "name": "stdout",
     "output_type": "stream",
     "text": [
      "97/256, train_avg_loss: 4.515\n"
     ]
    },
    {
     "name": "stderr",
     "output_type": "stream",
     "text": [
      "Training one epoch 98/256: 100%|██████████| 98/98 [00:31<00:00,  3.07it/s]\n"
     ]
    },
    {
     "name": "stdout",
     "output_type": "stream",
     "text": [
      "98/256, train_avg_loss: 4.510\n"
     ]
    },
    {
     "name": "stderr",
     "output_type": "stream",
     "text": [
      "Training one epoch 99/256: 100%|██████████| 98/98 [00:31<00:00,  3.08it/s]\n"
     ]
    },
    {
     "name": "stdout",
     "output_type": "stream",
     "text": [
      "99/256, train_avg_loss: 4.509\n"
     ]
    },
    {
     "name": "stderr",
     "output_type": "stream",
     "text": [
      "Training one epoch 100/256: 100%|██████████| 98/98 [00:31<00:00,  3.07it/s]\n"
     ]
    },
    {
     "name": "stdout",
     "output_type": "stream",
     "text": [
      "100/256, train_avg_loss: 4.500\n"
     ]
    },
    {
     "name": "stderr",
     "output_type": "stream",
     "text": [
      "Training one epoch 101/256: 100%|██████████| 98/98 [00:31<00:00,  3.08it/s]\n"
     ]
    },
    {
     "name": "stdout",
     "output_type": "stream",
     "text": [
      "101/256, train_avg_loss: 4.502\n"
     ]
    },
    {
     "name": "stderr",
     "output_type": "stream",
     "text": [
      "Training one epoch 102/256: 100%|██████████| 98/98 [00:31<00:00,  3.08it/s]\n"
     ]
    },
    {
     "name": "stdout",
     "output_type": "stream",
     "text": [
      "102/256, train_avg_loss: 4.498\n"
     ]
    },
    {
     "name": "stderr",
     "output_type": "stream",
     "text": [
      "Training one epoch 103/256: 100%|██████████| 98/98 [00:32<00:00,  3.06it/s]\n"
     ]
    },
    {
     "name": "stdout",
     "output_type": "stream",
     "text": [
      "103/256, train_avg_loss: 4.493\n"
     ]
    },
    {
     "name": "stderr",
     "output_type": "stream",
     "text": [
      "Training one epoch 104/256: 100%|██████████| 98/98 [00:31<00:00,  3.07it/s]\n",
      "Evaling accuracy on test set: 100%|██████████| 98/98 [00:21<00:00,  4.59it/s]\n"
     ]
    },
    {
     "name": "stdout",
     "output_type": "stream",
     "text": [
      "104/256, train_avg_loss: 4.491, test_acc: 0.77286\n"
     ]
    },
    {
     "name": "stderr",
     "output_type": "stream",
     "text": [
      "Training one epoch 105/256: 100%|██████████| 98/98 [00:31<00:00,  3.07it/s]\n"
     ]
    },
    {
     "name": "stdout",
     "output_type": "stream",
     "text": [
      "105/256, train_avg_loss: 4.485\n"
     ]
    },
    {
     "name": "stderr",
     "output_type": "stream",
     "text": [
      "Training one epoch 106/256: 100%|██████████| 98/98 [00:31<00:00,  3.08it/s]\n"
     ]
    },
    {
     "name": "stdout",
     "output_type": "stream",
     "text": [
      "106/256, train_avg_loss: 4.490\n"
     ]
    },
    {
     "name": "stderr",
     "output_type": "stream",
     "text": [
      "Training one epoch 107/256: 100%|██████████| 98/98 [00:31<00:00,  3.08it/s]\n"
     ]
    },
    {
     "name": "stdout",
     "output_type": "stream",
     "text": [
      "107/256, train_avg_loss: 4.489\n"
     ]
    },
    {
     "name": "stderr",
     "output_type": "stream",
     "text": [
      "Training one epoch 108/256: 100%|██████████| 98/98 [00:31<00:00,  3.06it/s]\n"
     ]
    },
    {
     "name": "stdout",
     "output_type": "stream",
     "text": [
      "108/256, train_avg_loss: 4.478\n"
     ]
    },
    {
     "name": "stderr",
     "output_type": "stream",
     "text": [
      "Training one epoch 109/256: 100%|██████████| 98/98 [00:31<00:00,  3.08it/s]\n"
     ]
    },
    {
     "name": "stdout",
     "output_type": "stream",
     "text": [
      "109/256, train_avg_loss: 4.475\n"
     ]
    },
    {
     "name": "stderr",
     "output_type": "stream",
     "text": [
      "Training one epoch 110/256: 100%|██████████| 98/98 [00:31<00:00,  3.08it/s]\n"
     ]
    },
    {
     "name": "stdout",
     "output_type": "stream",
     "text": [
      "110/256, train_avg_loss: 4.476\n"
     ]
    },
    {
     "name": "stderr",
     "output_type": "stream",
     "text": [
      "Training one epoch 111/256: 100%|██████████| 98/98 [00:31<00:00,  3.07it/s]\n"
     ]
    },
    {
     "name": "stdout",
     "output_type": "stream",
     "text": [
      "111/256, train_avg_loss: 4.475\n"
     ]
    },
    {
     "name": "stderr",
     "output_type": "stream",
     "text": [
      "Training one epoch 112/256: 100%|██████████| 98/98 [00:31<00:00,  3.08it/s]\n",
      "Evaling accuracy on test set: 100%|██████████| 98/98 [00:21<00:00,  4.54it/s]\n"
     ]
    },
    {
     "name": "stdout",
     "output_type": "stream",
     "text": [
      "112/256, train_avg_loss: 4.475, test_acc: 0.7785\n"
     ]
    },
    {
     "name": "stderr",
     "output_type": "stream",
     "text": [
      "Training one epoch 113/256: 100%|██████████| 98/98 [00:31<00:00,  3.08it/s]\n"
     ]
    },
    {
     "name": "stdout",
     "output_type": "stream",
     "text": [
      "113/256, train_avg_loss: 4.465\n"
     ]
    },
    {
     "name": "stderr",
     "output_type": "stream",
     "text": [
      "Training one epoch 114/256: 100%|██████████| 98/98 [00:31<00:00,  3.08it/s]\n"
     ]
    },
    {
     "name": "stdout",
     "output_type": "stream",
     "text": [
      "114/256, train_avg_loss: 4.465\n"
     ]
    },
    {
     "name": "stderr",
     "output_type": "stream",
     "text": [
      "Training one epoch 115/256: 100%|██████████| 98/98 [00:31<00:00,  3.08it/s]\n"
     ]
    },
    {
     "name": "stdout",
     "output_type": "stream",
     "text": [
      "115/256, train_avg_loss: 4.463\n"
     ]
    },
    {
     "name": "stderr",
     "output_type": "stream",
     "text": [
      "Training one epoch 116/256: 100%|██████████| 98/98 [00:31<00:00,  3.08it/s]\n"
     ]
    },
    {
     "name": "stdout",
     "output_type": "stream",
     "text": [
      "116/256, train_avg_loss: 4.465\n"
     ]
    },
    {
     "name": "stderr",
     "output_type": "stream",
     "text": [
      "Training one epoch 117/256: 100%|██████████| 98/98 [00:32<00:00,  3.06it/s]\n"
     ]
    },
    {
     "name": "stdout",
     "output_type": "stream",
     "text": [
      "117/256, train_avg_loss: 4.457\n"
     ]
    },
    {
     "name": "stderr",
     "output_type": "stream",
     "text": [
      "Training one epoch 118/256: 100%|██████████| 98/98 [00:31<00:00,  3.09it/s]\n"
     ]
    },
    {
     "name": "stdout",
     "output_type": "stream",
     "text": [
      "118/256, train_avg_loss: 4.460\n"
     ]
    },
    {
     "name": "stderr",
     "output_type": "stream",
     "text": [
      "Training one epoch 119/256: 100%|██████████| 98/98 [00:31<00:00,  3.08it/s]\n"
     ]
    },
    {
     "name": "stdout",
     "output_type": "stream",
     "text": [
      "119/256, train_avg_loss: 4.456\n"
     ]
    },
    {
     "name": "stderr",
     "output_type": "stream",
     "text": [
      "Training one epoch 120/256: 100%|██████████| 98/98 [00:31<00:00,  3.08it/s]\n",
      "Evaling accuracy on test set: 100%|██████████| 98/98 [00:21<00:00,  4.60it/s]\n"
     ]
    },
    {
     "name": "stdout",
     "output_type": "stream",
     "text": [
      "120/256, train_avg_loss: 4.452, test_acc: 0.78102\n"
     ]
    },
    {
     "name": "stderr",
     "output_type": "stream",
     "text": [
      "Training one epoch 121/256: 100%|██████████| 98/98 [00:31<00:00,  3.09it/s]\n"
     ]
    },
    {
     "name": "stdout",
     "output_type": "stream",
     "text": [
      "121/256, train_avg_loss: 4.443\n"
     ]
    },
    {
     "name": "stderr",
     "output_type": "stream",
     "text": [
      "Training one epoch 122/256: 100%|██████████| 98/98 [00:31<00:00,  3.07it/s]\n"
     ]
    },
    {
     "name": "stdout",
     "output_type": "stream",
     "text": [
      "122/256, train_avg_loss: 4.454\n"
     ]
    },
    {
     "name": "stderr",
     "output_type": "stream",
     "text": [
      "Training one epoch 123/256: 100%|██████████| 98/98 [00:31<00:00,  3.09it/s]\n"
     ]
    },
    {
     "name": "stdout",
     "output_type": "stream",
     "text": [
      "123/256, train_avg_loss: 4.445\n"
     ]
    },
    {
     "name": "stderr",
     "output_type": "stream",
     "text": [
      "Training one epoch 124/256: 100%|██████████| 98/98 [00:31<00:00,  3.08it/s]\n"
     ]
    },
    {
     "name": "stdout",
     "output_type": "stream",
     "text": [
      "124/256, train_avg_loss: 4.449\n"
     ]
    },
    {
     "name": "stderr",
     "output_type": "stream",
     "text": [
      "Training one epoch 125/256: 100%|██████████| 98/98 [00:31<00:00,  3.08it/s]\n"
     ]
    },
    {
     "name": "stdout",
     "output_type": "stream",
     "text": [
      "125/256, train_avg_loss: 4.441\n"
     ]
    },
    {
     "name": "stderr",
     "output_type": "stream",
     "text": [
      "Training one epoch 126/256: 100%|██████████| 98/98 [00:31<00:00,  3.08it/s]\n"
     ]
    },
    {
     "name": "stdout",
     "output_type": "stream",
     "text": [
      "126/256, train_avg_loss: 4.441\n"
     ]
    },
    {
     "name": "stderr",
     "output_type": "stream",
     "text": [
      "Training one epoch 127/256: 100%|██████████| 98/98 [00:31<00:00,  3.06it/s]\n"
     ]
    },
    {
     "name": "stdout",
     "output_type": "stream",
     "text": [
      "127/256, train_avg_loss: 4.436\n"
     ]
    },
    {
     "name": "stderr",
     "output_type": "stream",
     "text": [
      "Training one epoch 128/256: 100%|██████████| 98/98 [00:31<00:00,  3.08it/s]\n",
      "Evaling accuracy on test set: 100%|██████████| 98/98 [00:21<00:00,  4.57it/s]\n"
     ]
    },
    {
     "name": "stdout",
     "output_type": "stream",
     "text": [
      "128/256, train_avg_loss: 4.438, test_acc: 0.78534\n"
     ]
    },
    {
     "name": "stderr",
     "output_type": "stream",
     "text": [
      "Training one epoch 129/256: 100%|██████████| 98/98 [00:31<00:00,  3.09it/s]\n"
     ]
    },
    {
     "name": "stdout",
     "output_type": "stream",
     "text": [
      "129/256, train_avg_loss: 4.434\n"
     ]
    },
    {
     "name": "stderr",
     "output_type": "stream",
     "text": [
      "Training one epoch 130/256: 100%|██████████| 98/98 [00:31<00:00,  3.09it/s]\n"
     ]
    },
    {
     "name": "stdout",
     "output_type": "stream",
     "text": [
      "130/256, train_avg_loss: 4.439\n"
     ]
    },
    {
     "name": "stderr",
     "output_type": "stream",
     "text": [
      "Training one epoch 131/256: 100%|██████████| 98/98 [00:31<00:00,  3.08it/s]\n"
     ]
    },
    {
     "name": "stdout",
     "output_type": "stream",
     "text": [
      "131/256, train_avg_loss: 4.430\n"
     ]
    },
    {
     "name": "stderr",
     "output_type": "stream",
     "text": [
      "Training one epoch 132/256: 100%|██████████| 98/98 [00:31<00:00,  3.07it/s]\n"
     ]
    },
    {
     "name": "stdout",
     "output_type": "stream",
     "text": [
      "132/256, train_avg_loss: 4.432\n"
     ]
    },
    {
     "name": "stderr",
     "output_type": "stream",
     "text": [
      "Training one epoch 133/256: 100%|██████████| 98/98 [00:31<00:00,  3.08it/s]\n"
     ]
    },
    {
     "name": "stdout",
     "output_type": "stream",
     "text": [
      "133/256, train_avg_loss: 4.427\n"
     ]
    },
    {
     "name": "stderr",
     "output_type": "stream",
     "text": [
      "Training one epoch 134/256: 100%|██████████| 98/98 [00:31<00:00,  3.08it/s]\n"
     ]
    },
    {
     "name": "stdout",
     "output_type": "stream",
     "text": [
      "134/256, train_avg_loss: 4.429\n"
     ]
    },
    {
     "name": "stderr",
     "output_type": "stream",
     "text": [
      "Training one epoch 135/256: 100%|██████████| 98/98 [00:31<00:00,  3.08it/s]\n"
     ]
    },
    {
     "name": "stdout",
     "output_type": "stream",
     "text": [
      "135/256, train_avg_loss: 4.430\n"
     ]
    },
    {
     "name": "stderr",
     "output_type": "stream",
     "text": [
      "Training one epoch 136/256: 100%|██████████| 98/98 [00:31<00:00,  3.08it/s]\n",
      "Evaling accuracy on test set: 100%|██████████| 98/98 [00:21<00:00,  4.55it/s]\n"
     ]
    },
    {
     "name": "stdout",
     "output_type": "stream",
     "text": [
      "136/256, train_avg_loss: 4.425, test_acc: 0.78774\n"
     ]
    },
    {
     "name": "stderr",
     "output_type": "stream",
     "text": [
      "Training one epoch 137/256: 100%|██████████| 98/98 [00:31<00:00,  3.09it/s]\n"
     ]
    },
    {
     "name": "stdout",
     "output_type": "stream",
     "text": [
      "137/256, train_avg_loss: 4.423\n"
     ]
    },
    {
     "name": "stderr",
     "output_type": "stream",
     "text": [
      "Training one epoch 138/256: 100%|██████████| 98/98 [00:31<00:00,  3.08it/s]\n"
     ]
    },
    {
     "name": "stdout",
     "output_type": "stream",
     "text": [
      "138/256, train_avg_loss: 4.420\n"
     ]
    },
    {
     "name": "stderr",
     "output_type": "stream",
     "text": [
      "Training one epoch 139/256: 100%|██████████| 98/98 [00:31<00:00,  3.08it/s]\n"
     ]
    },
    {
     "name": "stdout",
     "output_type": "stream",
     "text": [
      "139/256, train_avg_loss: 4.415\n"
     ]
    },
    {
     "name": "stderr",
     "output_type": "stream",
     "text": [
      "Training one epoch 140/256: 100%|██████████| 98/98 [00:31<00:00,  3.08it/s]\n"
     ]
    },
    {
     "name": "stdout",
     "output_type": "stream",
     "text": [
      "140/256, train_avg_loss: 4.419\n"
     ]
    },
    {
     "name": "stderr",
     "output_type": "stream",
     "text": [
      "Training one epoch 141/256: 100%|██████████| 98/98 [00:31<00:00,  3.06it/s]\n"
     ]
    },
    {
     "name": "stdout",
     "output_type": "stream",
     "text": [
      "141/256, train_avg_loss: 4.418\n"
     ]
    },
    {
     "name": "stderr",
     "output_type": "stream",
     "text": [
      "Training one epoch 142/256: 100%|██████████| 98/98 [00:31<00:00,  3.08it/s]\n"
     ]
    },
    {
     "name": "stdout",
     "output_type": "stream",
     "text": [
      "142/256, train_avg_loss: 4.418\n"
     ]
    },
    {
     "name": "stderr",
     "output_type": "stream",
     "text": [
      "Training one epoch 143/256: 100%|██████████| 98/98 [00:31<00:00,  3.09it/s]\n"
     ]
    },
    {
     "name": "stdout",
     "output_type": "stream",
     "text": [
      "143/256, train_avg_loss: 4.414\n"
     ]
    },
    {
     "name": "stderr",
     "output_type": "stream",
     "text": [
      "Training one epoch 144/256: 100%|██████████| 98/98 [00:32<00:00,  3.06it/s]\n",
      "Evaling accuracy on test set: 100%|██████████| 98/98 [00:22<00:00,  4.41it/s]\n"
     ]
    },
    {
     "name": "stdout",
     "output_type": "stream",
     "text": [
      "144/256, train_avg_loss: 4.413, test_acc: 0.78868\n"
     ]
    },
    {
     "name": "stderr",
     "output_type": "stream",
     "text": [
      "Training one epoch 145/256: 100%|██████████| 98/98 [00:33<00:00,  2.89it/s]\n"
     ]
    },
    {
     "name": "stdout",
     "output_type": "stream",
     "text": [
      "145/256, train_avg_loss: 4.415\n"
     ]
    },
    {
     "name": "stderr",
     "output_type": "stream",
     "text": [
      "Training one epoch 146/256: 100%|██████████| 98/98 [00:31<00:00,  3.07it/s]\n"
     ]
    },
    {
     "name": "stdout",
     "output_type": "stream",
     "text": [
      "146/256, train_avg_loss: 4.406\n"
     ]
    },
    {
     "name": "stderr",
     "output_type": "stream",
     "text": [
      "Training one epoch 147/256: 100%|██████████| 98/98 [00:31<00:00,  3.08it/s]\n"
     ]
    },
    {
     "name": "stdout",
     "output_type": "stream",
     "text": [
      "147/256, train_avg_loss: 4.405\n"
     ]
    },
    {
     "name": "stderr",
     "output_type": "stream",
     "text": [
      "Training one epoch 148/256: 100%|██████████| 98/98 [00:31<00:00,  3.08it/s]\n"
     ]
    },
    {
     "name": "stdout",
     "output_type": "stream",
     "text": [
      "148/256, train_avg_loss: 4.409\n"
     ]
    },
    {
     "name": "stderr",
     "output_type": "stream",
     "text": [
      "Training one epoch 149/256: 100%|██████████| 98/98 [00:31<00:00,  3.07it/s]\n"
     ]
    },
    {
     "name": "stdout",
     "output_type": "stream",
     "text": [
      "149/256, train_avg_loss: 4.404\n"
     ]
    },
    {
     "name": "stderr",
     "output_type": "stream",
     "text": [
      "Training one epoch 150/256: 100%|██████████| 98/98 [00:31<00:00,  3.07it/s]\n"
     ]
    },
    {
     "name": "stdout",
     "output_type": "stream",
     "text": [
      "150/256, train_avg_loss: 4.405\n"
     ]
    },
    {
     "name": "stderr",
     "output_type": "stream",
     "text": [
      "Training one epoch 151/256: 100%|██████████| 98/98 [00:32<00:00,  3.06it/s]\n"
     ]
    },
    {
     "name": "stdout",
     "output_type": "stream",
     "text": [
      "151/256, train_avg_loss: 4.409\n"
     ]
    },
    {
     "name": "stderr",
     "output_type": "stream",
     "text": [
      "Training one epoch 152/256: 100%|██████████| 98/98 [00:31<00:00,  3.08it/s]\n",
      "Evaling accuracy on test set: 100%|██████████| 98/98 [00:21<00:00,  4.58it/s]\n"
     ]
    },
    {
     "name": "stdout",
     "output_type": "stream",
     "text": [
      "152/256, train_avg_loss: 4.405, test_acc: 0.79138\n"
     ]
    },
    {
     "name": "stderr",
     "output_type": "stream",
     "text": [
      "Training one epoch 153/256: 100%|██████████| 98/98 [00:31<00:00,  3.09it/s]\n"
     ]
    },
    {
     "name": "stdout",
     "output_type": "stream",
     "text": [
      "153/256, train_avg_loss: 4.403\n"
     ]
    },
    {
     "name": "stderr",
     "output_type": "stream",
     "text": [
      "Training one epoch 154/256: 100%|██████████| 98/98 [00:31<00:00,  3.08it/s]\n"
     ]
    },
    {
     "name": "stdout",
     "output_type": "stream",
     "text": [
      "154/256, train_avg_loss: 4.407\n"
     ]
    },
    {
     "name": "stderr",
     "output_type": "stream",
     "text": [
      "Training one epoch 155/256: 100%|██████████| 98/98 [00:31<00:00,  3.08it/s]\n"
     ]
    },
    {
     "name": "stdout",
     "output_type": "stream",
     "text": [
      "155/256, train_avg_loss: 4.397\n"
     ]
    },
    {
     "name": "stderr",
     "output_type": "stream",
     "text": [
      "Training one epoch 156/256: 100%|██████████| 98/98 [00:31<00:00,  3.06it/s]\n"
     ]
    },
    {
     "name": "stdout",
     "output_type": "stream",
     "text": [
      "156/256, train_avg_loss: 4.402\n"
     ]
    },
    {
     "name": "stderr",
     "output_type": "stream",
     "text": [
      "Training one epoch 157/256: 100%|██████████| 98/98 [00:31<00:00,  3.08it/s]\n"
     ]
    },
    {
     "name": "stdout",
     "output_type": "stream",
     "text": [
      "157/256, train_avg_loss: 4.402\n"
     ]
    },
    {
     "name": "stderr",
     "output_type": "stream",
     "text": [
      "Training one epoch 158/256: 100%|██████████| 98/98 [00:31<00:00,  3.09it/s]\n"
     ]
    },
    {
     "name": "stdout",
     "output_type": "stream",
     "text": [
      "158/256, train_avg_loss: 4.402\n"
     ]
    },
    {
     "name": "stderr",
     "output_type": "stream",
     "text": [
      "Training one epoch 159/256: 100%|██████████| 98/98 [00:31<00:00,  3.07it/s]\n"
     ]
    },
    {
     "name": "stdout",
     "output_type": "stream",
     "text": [
      "159/256, train_avg_loss: 4.397\n"
     ]
    },
    {
     "name": "stderr",
     "output_type": "stream",
     "text": [
      "Training one epoch 160/256: 100%|██████████| 98/98 [00:31<00:00,  3.07it/s]\n",
      "Evaling accuracy on test set: 100%|██████████| 98/98 [00:21<00:00,  4.55it/s]\n"
     ]
    },
    {
     "name": "stdout",
     "output_type": "stream",
     "text": [
      "160/256, train_avg_loss: 4.394, test_acc: 0.79122\n"
     ]
    },
    {
     "name": "stderr",
     "output_type": "stream",
     "text": [
      "Training one epoch 161/256: 100%|██████████| 98/98 [00:31<00:00,  3.09it/s]\n"
     ]
    },
    {
     "name": "stdout",
     "output_type": "stream",
     "text": [
      "161/256, train_avg_loss: 4.392\n"
     ]
    },
    {
     "name": "stderr",
     "output_type": "stream",
     "text": [
      "Training one epoch 162/256: 100%|██████████| 98/98 [00:31<00:00,  3.08it/s]\n"
     ]
    },
    {
     "name": "stdout",
     "output_type": "stream",
     "text": [
      "162/256, train_avg_loss: 4.394\n"
     ]
    },
    {
     "name": "stderr",
     "output_type": "stream",
     "text": [
      "Training one epoch 163/256: 100%|██████████| 98/98 [00:31<00:00,  3.08it/s]\n"
     ]
    },
    {
     "name": "stdout",
     "output_type": "stream",
     "text": [
      "163/256, train_avg_loss: 4.394\n"
     ]
    },
    {
     "name": "stderr",
     "output_type": "stream",
     "text": [
      "Training one epoch 164/256: 100%|██████████| 98/98 [00:31<00:00,  3.08it/s]\n"
     ]
    },
    {
     "name": "stdout",
     "output_type": "stream",
     "text": [
      "164/256, train_avg_loss: 4.396\n"
     ]
    },
    {
     "name": "stderr",
     "output_type": "stream",
     "text": [
      "Training one epoch 165/256: 100%|██████████| 98/98 [00:31<00:00,  3.07it/s]\n"
     ]
    },
    {
     "name": "stdout",
     "output_type": "stream",
     "text": [
      "165/256, train_avg_loss: 4.392\n"
     ]
    },
    {
     "name": "stderr",
     "output_type": "stream",
     "text": [
      "Training one epoch 166/256: 100%|██████████| 98/98 [00:31<00:00,  3.08it/s]\n"
     ]
    },
    {
     "name": "stdout",
     "output_type": "stream",
     "text": [
      "166/256, train_avg_loss: 4.389\n"
     ]
    },
    {
     "name": "stderr",
     "output_type": "stream",
     "text": [
      "Training one epoch 167/256: 100%|██████████| 98/98 [00:31<00:00,  3.08it/s]\n"
     ]
    },
    {
     "name": "stdout",
     "output_type": "stream",
     "text": [
      "167/256, train_avg_loss: 4.389\n"
     ]
    },
    {
     "name": "stderr",
     "output_type": "stream",
     "text": [
      "Training one epoch 168/256: 100%|██████████| 98/98 [00:31<00:00,  3.08it/s]\n",
      "Evaling accuracy on test set: 100%|██████████| 98/98 [00:21<00:00,  4.58it/s]\n"
     ]
    },
    {
     "name": "stdout",
     "output_type": "stream",
     "text": [
      "168/256, train_avg_loss: 4.388, test_acc: 0.79262\n"
     ]
    },
    {
     "name": "stderr",
     "output_type": "stream",
     "text": [
      "Training one epoch 169/256: 100%|██████████| 98/98 [00:31<00:00,  3.08it/s]\n"
     ]
    },
    {
     "name": "stdout",
     "output_type": "stream",
     "text": [
      "169/256, train_avg_loss: 4.385\n"
     ]
    },
    {
     "name": "stderr",
     "output_type": "stream",
     "text": [
      "Training one epoch 170/256: 100%|██████████| 98/98 [00:31<00:00,  3.06it/s]\n"
     ]
    },
    {
     "name": "stdout",
     "output_type": "stream",
     "text": [
      "170/256, train_avg_loss: 4.385\n"
     ]
    },
    {
     "name": "stderr",
     "output_type": "stream",
     "text": [
      "Training one epoch 171/256: 100%|██████████| 98/98 [00:31<00:00,  3.08it/s]\n"
     ]
    },
    {
     "name": "stdout",
     "output_type": "stream",
     "text": [
      "171/256, train_avg_loss: 4.388\n"
     ]
    },
    {
     "name": "stderr",
     "output_type": "stream",
     "text": [
      "Training one epoch 172/256: 100%|██████████| 98/98 [00:31<00:00,  3.08it/s]\n"
     ]
    },
    {
     "name": "stdout",
     "output_type": "stream",
     "text": [
      "172/256, train_avg_loss: 4.386\n"
     ]
    },
    {
     "name": "stderr",
     "output_type": "stream",
     "text": [
      "Training one epoch 173/256: 100%|██████████| 98/98 [00:31<00:00,  3.08it/s]\n"
     ]
    },
    {
     "name": "stdout",
     "output_type": "stream",
     "text": [
      "173/256, train_avg_loss: 4.384\n"
     ]
    },
    {
     "name": "stderr",
     "output_type": "stream",
     "text": [
      "Training one epoch 174/256: 100%|██████████| 98/98 [00:31<00:00,  3.08it/s]\n"
     ]
    },
    {
     "name": "stdout",
     "output_type": "stream",
     "text": [
      "174/256, train_avg_loss: 4.387\n"
     ]
    },
    {
     "name": "stderr",
     "output_type": "stream",
     "text": [
      "Training one epoch 175/256: 100%|██████████| 98/98 [00:32<00:00,  3.06it/s]\n"
     ]
    },
    {
     "name": "stdout",
     "output_type": "stream",
     "text": [
      "175/256, train_avg_loss: 4.384\n"
     ]
    },
    {
     "name": "stderr",
     "output_type": "stream",
     "text": [
      "Training one epoch 176/256: 100%|██████████| 98/98 [00:31<00:00,  3.07it/s]\n",
      "Evaling accuracy on test set: 100%|██████████| 98/98 [00:21<00:00,  4.60it/s]\n"
     ]
    },
    {
     "name": "stdout",
     "output_type": "stream",
     "text": [
      "176/256, train_avg_loss: 4.382, test_acc: 0.79242\n"
     ]
    },
    {
     "name": "stderr",
     "output_type": "stream",
     "text": [
      "Training one epoch 177/256: 100%|██████████| 98/98 [00:31<00:00,  3.08it/s]\n"
     ]
    },
    {
     "name": "stdout",
     "output_type": "stream",
     "text": [
      "177/256, train_avg_loss: 4.379\n"
     ]
    },
    {
     "name": "stderr",
     "output_type": "stream",
     "text": [
      "Training one epoch 178/256: 100%|██████████| 98/98 [00:31<00:00,  3.08it/s]\n"
     ]
    },
    {
     "name": "stdout",
     "output_type": "stream",
     "text": [
      "178/256, train_avg_loss: 4.382\n"
     ]
    },
    {
     "name": "stderr",
     "output_type": "stream",
     "text": [
      "Training one epoch 179/256: 100%|██████████| 98/98 [00:31<00:00,  3.08it/s]\n"
     ]
    },
    {
     "name": "stdout",
     "output_type": "stream",
     "text": [
      "179/256, train_avg_loss: 4.378\n"
     ]
    },
    {
     "name": "stderr",
     "output_type": "stream",
     "text": [
      "Training one epoch 180/256: 100%|██████████| 98/98 [00:31<00:00,  3.07it/s]\n"
     ]
    },
    {
     "name": "stdout",
     "output_type": "stream",
     "text": [
      "180/256, train_avg_loss: 4.381\n"
     ]
    },
    {
     "name": "stderr",
     "output_type": "stream",
     "text": [
      "Training one epoch 181/256: 100%|██████████| 98/98 [00:31<00:00,  3.08it/s]\n"
     ]
    },
    {
     "name": "stdout",
     "output_type": "stream",
     "text": [
      "181/256, train_avg_loss: 4.378\n"
     ]
    },
    {
     "name": "stderr",
     "output_type": "stream",
     "text": [
      "Training one epoch 182/256: 100%|██████████| 98/98 [00:31<00:00,  3.08it/s]\n"
     ]
    },
    {
     "name": "stdout",
     "output_type": "stream",
     "text": [
      "182/256, train_avg_loss: 4.376\n"
     ]
    },
    {
     "name": "stderr",
     "output_type": "stream",
     "text": [
      "Training one epoch 183/256: 100%|██████████| 98/98 [00:31<00:00,  3.08it/s]\n"
     ]
    },
    {
     "name": "stdout",
     "output_type": "stream",
     "text": [
      "183/256, train_avg_loss: 4.383\n"
     ]
    },
    {
     "name": "stderr",
     "output_type": "stream",
     "text": [
      "Training one epoch 184/256: 100%|██████████| 98/98 [00:31<00:00,  3.07it/s]\n",
      "Evaling accuracy on test set: 100%|██████████| 98/98 [00:21<00:00,  4.54it/s]\n"
     ]
    },
    {
     "name": "stdout",
     "output_type": "stream",
     "text": [
      "184/256, train_avg_loss: 4.376, test_acc: 0.79262\n"
     ]
    },
    {
     "name": "stderr",
     "output_type": "stream",
     "text": [
      "Training one epoch 185/256: 100%|██████████| 98/98 [00:31<00:00,  3.08it/s]\n"
     ]
    },
    {
     "name": "stdout",
     "output_type": "stream",
     "text": [
      "185/256, train_avg_loss: 4.376\n"
     ]
    },
    {
     "name": "stderr",
     "output_type": "stream",
     "text": [
      "Training one epoch 186/256: 100%|██████████| 98/98 [00:31<00:00,  3.08it/s]\n"
     ]
    },
    {
     "name": "stdout",
     "output_type": "stream",
     "text": [
      "186/256, train_avg_loss: 4.372\n"
     ]
    },
    {
     "name": "stderr",
     "output_type": "stream",
     "text": [
      "Training one epoch 187/256: 100%|██████████| 98/98 [00:31<00:00,  3.08it/s]\n"
     ]
    },
    {
     "name": "stdout",
     "output_type": "stream",
     "text": [
      "187/256, train_avg_loss: 4.377\n"
     ]
    },
    {
     "name": "stderr",
     "output_type": "stream",
     "text": [
      "Training one epoch 188/256: 100%|██████████| 98/98 [00:31<00:00,  3.08it/s]\n"
     ]
    },
    {
     "name": "stdout",
     "output_type": "stream",
     "text": [
      "188/256, train_avg_loss: 4.372\n"
     ]
    },
    {
     "name": "stderr",
     "output_type": "stream",
     "text": [
      "Training one epoch 189/256: 100%|██████████| 98/98 [00:32<00:00,  3.06it/s]\n"
     ]
    },
    {
     "name": "stdout",
     "output_type": "stream",
     "text": [
      "189/256, train_avg_loss: 4.376\n"
     ]
    },
    {
     "name": "stderr",
     "output_type": "stream",
     "text": [
      "Training one epoch 190/256: 100%|██████████| 98/98 [00:31<00:00,  3.08it/s]\n"
     ]
    },
    {
     "name": "stdout",
     "output_type": "stream",
     "text": [
      "190/256, train_avg_loss: 4.372\n"
     ]
    },
    {
     "name": "stderr",
     "output_type": "stream",
     "text": [
      "Training one epoch 191/256: 100%|██████████| 98/98 [00:31<00:00,  3.08it/s]\n"
     ]
    },
    {
     "name": "stdout",
     "output_type": "stream",
     "text": [
      "191/256, train_avg_loss: 4.378\n"
     ]
    },
    {
     "name": "stderr",
     "output_type": "stream",
     "text": [
      "Training one epoch 192/256: 100%|██████████| 98/98 [00:31<00:00,  3.07it/s]\n",
      "Evaling accuracy on test set: 100%|██████████| 98/98 [00:21<00:00,  4.60it/s]\n"
     ]
    },
    {
     "name": "stdout",
     "output_type": "stream",
     "text": [
      "192/256, train_avg_loss: 4.371, test_acc: 0.79396\n"
     ]
    },
    {
     "name": "stderr",
     "output_type": "stream",
     "text": [
      "Training one epoch 193/256: 100%|██████████| 98/98 [00:31<00:00,  3.08it/s]\n"
     ]
    },
    {
     "name": "stdout",
     "output_type": "stream",
     "text": [
      "193/256, train_avg_loss: 4.372\n"
     ]
    },
    {
     "name": "stderr",
     "output_type": "stream",
     "text": [
      "Training one epoch 194/256: 100%|██████████| 98/98 [00:32<00:00,  3.06it/s]\n"
     ]
    },
    {
     "name": "stdout",
     "output_type": "stream",
     "text": [
      "194/256, train_avg_loss: 4.369\n"
     ]
    },
    {
     "name": "stderr",
     "output_type": "stream",
     "text": [
      "Training one epoch 195/256: 100%|██████████| 98/98 [00:31<00:00,  3.08it/s]\n"
     ]
    },
    {
     "name": "stdout",
     "output_type": "stream",
     "text": [
      "195/256, train_avg_loss: 4.370\n"
     ]
    },
    {
     "name": "stderr",
     "output_type": "stream",
     "text": [
      "Training one epoch 196/256: 100%|██████████| 98/98 [00:31<00:00,  3.08it/s]\n"
     ]
    },
    {
     "name": "stdout",
     "output_type": "stream",
     "text": [
      "196/256, train_avg_loss: 4.369\n"
     ]
    },
    {
     "name": "stderr",
     "output_type": "stream",
     "text": [
      "Training one epoch 197/256: 100%|██████████| 98/98 [00:31<00:00,  3.07it/s]\n"
     ]
    },
    {
     "name": "stdout",
     "output_type": "stream",
     "text": [
      "197/256, train_avg_loss: 4.367\n"
     ]
    },
    {
     "name": "stderr",
     "output_type": "stream",
     "text": [
      "Training one epoch 198/256: 100%|██████████| 98/98 [00:31<00:00,  3.07it/s]\n"
     ]
    },
    {
     "name": "stdout",
     "output_type": "stream",
     "text": [
      "198/256, train_avg_loss: 4.370\n"
     ]
    },
    {
     "name": "stderr",
     "output_type": "stream",
     "text": [
      "Training one epoch 199/256: 100%|██████████| 98/98 [00:32<00:00,  3.06it/s]\n"
     ]
    },
    {
     "name": "stdout",
     "output_type": "stream",
     "text": [
      "199/256, train_avg_loss: 4.366\n"
     ]
    },
    {
     "name": "stderr",
     "output_type": "stream",
     "text": [
      "Training one epoch 200/256: 100%|██████████| 98/98 [00:31<00:00,  3.08it/s]\n",
      "Evaling accuracy on test set: 100%|██████████| 98/98 [00:21<00:00,  4.59it/s]\n"
     ]
    },
    {
     "name": "stdout",
     "output_type": "stream",
     "text": [
      "200/256, train_avg_loss: 4.370, test_acc: 0.79508\n"
     ]
    },
    {
     "name": "stderr",
     "output_type": "stream",
     "text": [
      "Training one epoch 201/256: 100%|██████████| 98/98 [00:31<00:00,  3.08it/s]\n"
     ]
    },
    {
     "name": "stdout",
     "output_type": "stream",
     "text": [
      "201/256, train_avg_loss: 4.365\n"
     ]
    },
    {
     "name": "stderr",
     "output_type": "stream",
     "text": [
      "Training one epoch 202/256: 100%|██████████| 98/98 [00:31<00:00,  3.08it/s]\n"
     ]
    },
    {
     "name": "stdout",
     "output_type": "stream",
     "text": [
      "202/256, train_avg_loss: 4.368\n"
     ]
    },
    {
     "name": "stderr",
     "output_type": "stream",
     "text": [
      "Training one epoch 203/256: 100%|██████████| 98/98 [00:31<00:00,  3.09it/s]\n"
     ]
    },
    {
     "name": "stdout",
     "output_type": "stream",
     "text": [
      "203/256, train_avg_loss: 4.367\n"
     ]
    },
    {
     "name": "stderr",
     "output_type": "stream",
     "text": [
      "Training one epoch 204/256: 100%|██████████| 98/98 [00:32<00:00,  3.05it/s]\n"
     ]
    },
    {
     "name": "stdout",
     "output_type": "stream",
     "text": [
      "204/256, train_avg_loss: 4.365\n"
     ]
    },
    {
     "name": "stderr",
     "output_type": "stream",
     "text": [
      "Training one epoch 205/256: 100%|██████████| 98/98 [00:31<00:00,  3.07it/s]\n"
     ]
    },
    {
     "name": "stdout",
     "output_type": "stream",
     "text": [
      "205/256, train_avg_loss: 4.363\n"
     ]
    },
    {
     "name": "stderr",
     "output_type": "stream",
     "text": [
      "Training one epoch 206/256: 100%|██████████| 98/98 [00:31<00:00,  3.06it/s]\n"
     ]
    },
    {
     "name": "stdout",
     "output_type": "stream",
     "text": [
      "206/256, train_avg_loss: 4.366\n"
     ]
    },
    {
     "name": "stderr",
     "output_type": "stream",
     "text": [
      "Training one epoch 207/256: 100%|██████████| 98/98 [00:31<00:00,  3.08it/s]\n"
     ]
    },
    {
     "name": "stdout",
     "output_type": "stream",
     "text": [
      "207/256, train_avg_loss: 4.365\n"
     ]
    },
    {
     "name": "stderr",
     "output_type": "stream",
     "text": [
      "Training one epoch 208/256: 100%|██████████| 98/98 [00:31<00:00,  3.07it/s]\n",
      "Evaling accuracy on test set: 100%|██████████| 98/98 [00:21<00:00,  4.54it/s]\n"
     ]
    },
    {
     "name": "stdout",
     "output_type": "stream",
     "text": [
      "208/256, train_avg_loss: 4.364, test_acc: 0.7964\n"
     ]
    },
    {
     "name": "stderr",
     "output_type": "stream",
     "text": [
      "Training one epoch 209/256: 100%|██████████| 98/98 [00:31<00:00,  3.09it/s]\n"
     ]
    },
    {
     "name": "stdout",
     "output_type": "stream",
     "text": [
      "209/256, train_avg_loss: 4.364\n"
     ]
    },
    {
     "name": "stderr",
     "output_type": "stream",
     "text": [
      "Training one epoch 210/256: 100%|██████████| 98/98 [00:31<00:00,  3.08it/s]\n"
     ]
    },
    {
     "name": "stdout",
     "output_type": "stream",
     "text": [
      "210/256, train_avg_loss: 4.363\n"
     ]
    },
    {
     "name": "stderr",
     "output_type": "stream",
     "text": [
      "Training one epoch 211/256: 100%|██████████| 98/98 [00:31<00:00,  3.07it/s]\n"
     ]
    },
    {
     "name": "stdout",
     "output_type": "stream",
     "text": [
      "211/256, train_avg_loss: 4.362\n"
     ]
    },
    {
     "name": "stderr",
     "output_type": "stream",
     "text": [
      "Training one epoch 212/256: 100%|██████████| 98/98 [00:31<00:00,  3.08it/s]\n"
     ]
    },
    {
     "name": "stdout",
     "output_type": "stream",
     "text": [
      "212/256, train_avg_loss: 4.363\n"
     ]
    },
    {
     "name": "stderr",
     "output_type": "stream",
     "text": [
      "Training one epoch 213/256: 100%|██████████| 98/98 [00:32<00:00,  3.06it/s]\n"
     ]
    },
    {
     "name": "stdout",
     "output_type": "stream",
     "text": [
      "213/256, train_avg_loss: 4.359\n"
     ]
    },
    {
     "name": "stderr",
     "output_type": "stream",
     "text": [
      "Training one epoch 214/256: 100%|██████████| 98/98 [00:31<00:00,  3.07it/s]\n"
     ]
    },
    {
     "name": "stdout",
     "output_type": "stream",
     "text": [
      "214/256, train_avg_loss: 4.359\n"
     ]
    },
    {
     "name": "stderr",
     "output_type": "stream",
     "text": [
      "Training one epoch 215/256: 100%|██████████| 98/98 [00:31<00:00,  3.07it/s]\n"
     ]
    },
    {
     "name": "stdout",
     "output_type": "stream",
     "text": [
      "215/256, train_avg_loss: 4.359\n"
     ]
    },
    {
     "name": "stderr",
     "output_type": "stream",
     "text": [
      "Training one epoch 216/256: 100%|██████████| 98/98 [00:31<00:00,  3.07it/s]\n",
      "Evaling accuracy on test set: 100%|██████████| 98/98 [00:21<00:00,  4.59it/s]\n"
     ]
    },
    {
     "name": "stdout",
     "output_type": "stream",
     "text": [
      "216/256, train_avg_loss: 4.358, test_acc: 0.79582\n"
     ]
    },
    {
     "name": "stderr",
     "output_type": "stream",
     "text": [
      "Training one epoch 217/256: 100%|██████████| 98/98 [00:31<00:00,  3.08it/s]\n"
     ]
    },
    {
     "name": "stdout",
     "output_type": "stream",
     "text": [
      "217/256, train_avg_loss: 4.360\n"
     ]
    },
    {
     "name": "stderr",
     "output_type": "stream",
     "text": [
      "Training one epoch 218/256: 100%|██████████| 98/98 [00:32<00:00,  3.06it/s]\n"
     ]
    },
    {
     "name": "stdout",
     "output_type": "stream",
     "text": [
      "218/256, train_avg_loss: 4.359\n"
     ]
    },
    {
     "name": "stderr",
     "output_type": "stream",
     "text": [
      "Training one epoch 219/256: 100%|██████████| 98/98 [00:31<00:00,  3.08it/s]\n"
     ]
    },
    {
     "name": "stdout",
     "output_type": "stream",
     "text": [
      "219/256, train_avg_loss: 4.360\n"
     ]
    },
    {
     "name": "stderr",
     "output_type": "stream",
     "text": [
      "Training one epoch 220/256: 100%|██████████| 98/98 [00:31<00:00,  3.07it/s]\n"
     ]
    },
    {
     "name": "stdout",
     "output_type": "stream",
     "text": [
      "220/256, train_avg_loss: 4.354\n"
     ]
    },
    {
     "name": "stderr",
     "output_type": "stream",
     "text": [
      "Training one epoch 221/256: 100%|██████████| 98/98 [00:31<00:00,  3.08it/s]\n"
     ]
    },
    {
     "name": "stdout",
     "output_type": "stream",
     "text": [
      "221/256, train_avg_loss: 4.356\n"
     ]
    },
    {
     "name": "stderr",
     "output_type": "stream",
     "text": [
      "Training one epoch 222/256: 100%|██████████| 98/98 [00:31<00:00,  3.07it/s]\n"
     ]
    },
    {
     "name": "stdout",
     "output_type": "stream",
     "text": [
      "222/256, train_avg_loss: 4.356\n"
     ]
    },
    {
     "name": "stderr",
     "output_type": "stream",
     "text": [
      "Training one epoch 223/256: 100%|██████████| 98/98 [00:31<00:00,  3.06it/s]\n"
     ]
    },
    {
     "name": "stdout",
     "output_type": "stream",
     "text": [
      "223/256, train_avg_loss: 4.353\n"
     ]
    },
    {
     "name": "stderr",
     "output_type": "stream",
     "text": [
      "Training one epoch 224/256: 100%|██████████| 98/98 [00:31<00:00,  3.07it/s]\n",
      "Evaling accuracy on test set: 100%|██████████| 98/98 [00:21<00:00,  4.59it/s]\n"
     ]
    },
    {
     "name": "stdout",
     "output_type": "stream",
     "text": [
      "224/256, train_avg_loss: 4.354, test_acc: 0.7966\n"
     ]
    },
    {
     "name": "stderr",
     "output_type": "stream",
     "text": [
      "Training one epoch 225/256: 100%|██████████| 98/98 [00:31<00:00,  3.09it/s]\n"
     ]
    },
    {
     "name": "stdout",
     "output_type": "stream",
     "text": [
      "225/256, train_avg_loss: 4.357\n"
     ]
    },
    {
     "name": "stderr",
     "output_type": "stream",
     "text": [
      "Training one epoch 226/256: 100%|██████████| 98/98 [00:31<00:00,  3.08it/s]\n"
     ]
    },
    {
     "name": "stdout",
     "output_type": "stream",
     "text": [
      "226/256, train_avg_loss: 4.353\n"
     ]
    },
    {
     "name": "stderr",
     "output_type": "stream",
     "text": [
      "Training one epoch 227/256: 100%|██████████| 98/98 [00:31<00:00,  3.07it/s]\n"
     ]
    },
    {
     "name": "stdout",
     "output_type": "stream",
     "text": [
      "227/256, train_avg_loss: 4.354\n"
     ]
    },
    {
     "name": "stderr",
     "output_type": "stream",
     "text": [
      "Training one epoch 228/256: 100%|██████████| 98/98 [00:32<00:00,  3.05it/s]\n"
     ]
    },
    {
     "name": "stdout",
     "output_type": "stream",
     "text": [
      "228/256, train_avg_loss: 4.349\n"
     ]
    },
    {
     "name": "stderr",
     "output_type": "stream",
     "text": [
      "Training one epoch 229/256: 100%|██████████| 98/98 [00:31<00:00,  3.08it/s]\n"
     ]
    },
    {
     "name": "stdout",
     "output_type": "stream",
     "text": [
      "229/256, train_avg_loss: 4.354\n"
     ]
    },
    {
     "name": "stderr",
     "output_type": "stream",
     "text": [
      "Training one epoch 230/256: 100%|██████████| 98/98 [00:31<00:00,  3.07it/s]\n"
     ]
    },
    {
     "name": "stdout",
     "output_type": "stream",
     "text": [
      "230/256, train_avg_loss: 4.351\n"
     ]
    },
    {
     "name": "stderr",
     "output_type": "stream",
     "text": [
      "Training one epoch 231/256: 100%|██████████| 98/98 [00:31<00:00,  3.07it/s]\n"
     ]
    },
    {
     "name": "stdout",
     "output_type": "stream",
     "text": [
      "231/256, train_avg_loss: 4.353\n"
     ]
    },
    {
     "name": "stderr",
     "output_type": "stream",
     "text": [
      "Training one epoch 232/256: 100%|██████████| 98/98 [00:31<00:00,  3.07it/s]\n",
      "Evaling accuracy on test set: 100%|██████████| 98/98 [00:21<00:00,  4.55it/s]\n"
     ]
    },
    {
     "name": "stdout",
     "output_type": "stream",
     "text": [
      "232/256, train_avg_loss: 4.351, test_acc: 0.79698\n"
     ]
    },
    {
     "name": "stderr",
     "output_type": "stream",
     "text": [
      "Training one epoch 233/256: 100%|██████████| 98/98 [00:31<00:00,  3.08it/s]\n"
     ]
    },
    {
     "name": "stdout",
     "output_type": "stream",
     "text": [
      "233/256, train_avg_loss: 4.352\n"
     ]
    },
    {
     "name": "stderr",
     "output_type": "stream",
     "text": [
      "Training one epoch 234/256: 100%|██████████| 98/98 [00:31<00:00,  3.08it/s]\n"
     ]
    },
    {
     "name": "stdout",
     "output_type": "stream",
     "text": [
      "234/256, train_avg_loss: 4.351\n"
     ]
    },
    {
     "name": "stderr",
     "output_type": "stream",
     "text": [
      "Training one epoch 235/256: 100%|██████████| 98/98 [00:31<00:00,  3.08it/s]\n"
     ]
    },
    {
     "name": "stdout",
     "output_type": "stream",
     "text": [
      "235/256, train_avg_loss: 4.350\n"
     ]
    },
    {
     "name": "stderr",
     "output_type": "stream",
     "text": [
      "Training one epoch 236/256: 100%|██████████| 98/98 [00:31<00:00,  3.07it/s]\n"
     ]
    },
    {
     "name": "stdout",
     "output_type": "stream",
     "text": [
      "236/256, train_avg_loss: 4.352\n"
     ]
    },
    {
     "name": "stderr",
     "output_type": "stream",
     "text": [
      "Training one epoch 237/256: 100%|██████████| 98/98 [00:32<00:00,  3.06it/s]\n"
     ]
    },
    {
     "name": "stdout",
     "output_type": "stream",
     "text": [
      "237/256, train_avg_loss: 4.350\n"
     ]
    },
    {
     "name": "stderr",
     "output_type": "stream",
     "text": [
      "Training one epoch 238/256: 100%|██████████| 98/98 [00:31<00:00,  3.07it/s]\n"
     ]
    },
    {
     "name": "stdout",
     "output_type": "stream",
     "text": [
      "238/256, train_avg_loss: 4.348\n"
     ]
    },
    {
     "name": "stderr",
     "output_type": "stream",
     "text": [
      "Training one epoch 239/256: 100%|██████████| 98/98 [00:31<00:00,  3.07it/s]\n"
     ]
    },
    {
     "name": "stdout",
     "output_type": "stream",
     "text": [
      "239/256, train_avg_loss: 4.350\n"
     ]
    },
    {
     "name": "stderr",
     "output_type": "stream",
     "text": [
      "Training one epoch 240/256: 100%|██████████| 98/98 [00:31<00:00,  3.08it/s]\n",
      "Evaling accuracy on test set: 100%|██████████| 98/98 [00:21<00:00,  4.59it/s]\n"
     ]
    },
    {
     "name": "stdout",
     "output_type": "stream",
     "text": [
      "240/256, train_avg_loss: 4.348, test_acc: 0.79622\n"
     ]
    },
    {
     "name": "stderr",
     "output_type": "stream",
     "text": [
      "Training one epoch 241/256: 100%|██████████| 98/98 [00:31<00:00,  3.08it/s]\n"
     ]
    },
    {
     "name": "stdout",
     "output_type": "stream",
     "text": [
      "241/256, train_avg_loss: 4.350\n"
     ]
    },
    {
     "name": "stderr",
     "output_type": "stream",
     "text": [
      "Training one epoch 242/256: 100%|██████████| 98/98 [00:31<00:00,  3.07it/s]\n"
     ]
    },
    {
     "name": "stdout",
     "output_type": "stream",
     "text": [
      "242/256, train_avg_loss: 4.352\n"
     ]
    },
    {
     "name": "stderr",
     "output_type": "stream",
     "text": [
      "Training one epoch 243/256: 100%|██████████| 98/98 [00:31<00:00,  3.07it/s]\n"
     ]
    },
    {
     "name": "stdout",
     "output_type": "stream",
     "text": [
      "243/256, train_avg_loss: 4.346\n"
     ]
    },
    {
     "name": "stderr",
     "output_type": "stream",
     "text": [
      "Training one epoch 244/256: 100%|██████████| 98/98 [00:31<00:00,  3.07it/s]\n"
     ]
    },
    {
     "name": "stdout",
     "output_type": "stream",
     "text": [
      "244/256, train_avg_loss: 4.347\n"
     ]
    },
    {
     "name": "stderr",
     "output_type": "stream",
     "text": [
      "Training one epoch 245/256: 100%|██████████| 98/98 [00:31<00:00,  3.07it/s]\n"
     ]
    },
    {
     "name": "stdout",
     "output_type": "stream",
     "text": [
      "245/256, train_avg_loss: 4.347\n"
     ]
    },
    {
     "name": "stderr",
     "output_type": "stream",
     "text": [
      "Training one epoch 246/256: 100%|██████████| 98/98 [00:31<00:00,  3.08it/s]\n"
     ]
    },
    {
     "name": "stdout",
     "output_type": "stream",
     "text": [
      "246/256, train_avg_loss: 4.350\n"
     ]
    },
    {
     "name": "stderr",
     "output_type": "stream",
     "text": [
      "Training one epoch 247/256: 100%|██████████| 98/98 [00:32<00:00,  3.06it/s]\n"
     ]
    },
    {
     "name": "stdout",
     "output_type": "stream",
     "text": [
      "247/256, train_avg_loss: 4.345\n"
     ]
    },
    {
     "name": "stderr",
     "output_type": "stream",
     "text": [
      "Training one epoch 248/256: 100%|██████████| 98/98 [00:31<00:00,  3.07it/s]\n",
      "Evaling accuracy on test set: 100%|██████████| 98/98 [00:21<00:00,  4.59it/s]\n"
     ]
    },
    {
     "name": "stdout",
     "output_type": "stream",
     "text": [
      "248/256, train_avg_loss: 4.347, test_acc: 0.7959\n"
     ]
    },
    {
     "name": "stderr",
     "output_type": "stream",
     "text": [
      "Training one epoch 249/256: 100%|██████████| 98/98 [00:31<00:00,  3.08it/s]\n"
     ]
    },
    {
     "name": "stdout",
     "output_type": "stream",
     "text": [
      "249/256, train_avg_loss: 4.345\n"
     ]
    },
    {
     "name": "stderr",
     "output_type": "stream",
     "text": [
      "Training one epoch 250/256: 100%|██████████| 98/98 [00:31<00:00,  3.08it/s]\n"
     ]
    },
    {
     "name": "stdout",
     "output_type": "stream",
     "text": [
      "250/256, train_avg_loss: 4.343\n"
     ]
    },
    {
     "name": "stderr",
     "output_type": "stream",
     "text": [
      "Training one epoch 251/256: 100%|██████████| 98/98 [00:31<00:00,  3.07it/s]\n"
     ]
    },
    {
     "name": "stdout",
     "output_type": "stream",
     "text": [
      "251/256, train_avg_loss: 4.343\n"
     ]
    },
    {
     "name": "stderr",
     "output_type": "stream",
     "text": [
      "Training one epoch 252/256: 100%|██████████| 98/98 [00:32<00:00,  3.06it/s]\n"
     ]
    },
    {
     "name": "stdout",
     "output_type": "stream",
     "text": [
      "252/256, train_avg_loss: 4.346\n"
     ]
    },
    {
     "name": "stderr",
     "output_type": "stream",
     "text": [
      "Training one epoch 253/256: 100%|██████████| 98/98 [00:31<00:00,  3.08it/s]\n"
     ]
    },
    {
     "name": "stdout",
     "output_type": "stream",
     "text": [
      "253/256, train_avg_loss: 4.344\n"
     ]
    },
    {
     "name": "stderr",
     "output_type": "stream",
     "text": [
      "Training one epoch 254/256: 100%|██████████| 98/98 [00:31<00:00,  3.08it/s]\n"
     ]
    },
    {
     "name": "stdout",
     "output_type": "stream",
     "text": [
      "254/256, train_avg_loss: 4.344\n"
     ]
    },
    {
     "name": "stderr",
     "output_type": "stream",
     "text": [
      "Training one epoch 255/256: 100%|██████████| 98/98 [00:31<00:00,  3.07it/s]\n"
     ]
    },
    {
     "name": "stdout",
     "output_type": "stream",
     "text": [
      "255/256, train_avg_loss: 4.343\n"
     ]
    },
    {
     "name": "stderr",
     "output_type": "stream",
     "text": [
      "Training one epoch 256/256: 100%|██████████| 98/98 [00:31<00:00,  3.08it/s]\n",
      "Evaling accuracy on test set: 100%|██████████| 98/98 [00:21<00:00,  4.53it/s]"
     ]
    },
    {
     "name": "stdout",
     "output_type": "stream",
     "text": [
      "256/256, train_avg_loss: 4.346, test_acc: 0.79732\n"
     ]
    },
    {
     "name": "stderr",
     "output_type": "stream",
     "text": [
      "\n"
     ]
    }
   ],
   "execution_count": 263
  },
  {
   "metadata": {
    "ExecuteTime": {
     "end_time": "2025-09-20T21:19:24.664195Z",
     "start_time": "2025-09-20T21:19:02.743151Z"
    }
   },
   "cell_type": "code",
   "source": [
    "model.eval()\n",
    "\n",
    "torch.save(\n",
    "    model.state_dict(), ctx.saved_w\n",
    ")\n",
    "\n",
    "eval_accuracy()"
   ],
   "id": "6f6ba6cd7566d404",
   "outputs": [
    {
     "name": "stderr",
     "output_type": "stream",
     "text": [
      "Evaling accuracy on test set: 100%|██████████| 98/98 [00:21<00:00,  4.56it/s]\n"
     ]
    },
    {
     "data": {
      "text/plain": [
       "0.79732"
      ]
     },
     "execution_count": 264,
     "metadata": {},
     "output_type": "execute_result"
    }
   ],
   "execution_count": 264
  }
 ],
 "metadata": {
  "kernelspec": {
   "display_name": "Python 3",
   "language": "python",
   "name": "python3"
  },
  "language_info": {
   "codemirror_mode": {
    "name": "ipython",
    "version": 2
   },
   "file_extension": ".py",
   "mimetype": "text/x-python",
   "name": "python",
   "nbconvert_exporter": "python",
   "pygments_lexer": "ipython2",
   "version": "2.7.6"
  }
 },
 "nbformat": 4,
 "nbformat_minor": 5
}
